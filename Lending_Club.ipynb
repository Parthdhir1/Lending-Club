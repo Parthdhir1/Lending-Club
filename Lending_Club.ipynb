{
  "nbformat": 4,
  "nbformat_minor": 0,
  "metadata": {
    "colab": {
      "name": "Lending Club.ipynb",
      "provenance": [],
      "collapsed_sections": [],
      "toc_visible": true,
      "machine_shape": "hm"
    },
    "kernelspec": {
      "name": "python3",
      "display_name": "Python 3"
    },
    "accelerator": "GPU"
  },
  "cells": [
    {
      "cell_type": "code",
      "metadata": {
        "id": "8uzhm2oZruqU",
        "colab_type": "code",
        "colab": {}
      },
      "source": [
        "import pandas as pd\n",
        "import numpy as np\n"
      ],
      "execution_count": null,
      "outputs": []
    },
    {
      "cell_type": "code",
      "metadata": {
        "id": "gdzSKDlEtesj",
        "colab_type": "code",
        "colab": {
          "base_uri": "https://localhost:8080/",
          "height": 50
        },
        "outputId": "06a6c822-c841-42f7-fdb7-28f1acf0d812"
      },
      "source": [
        "\n",
        "dff= pd.read_csv('/content/drive/My Drive/Projects/Lending Club/loan.csv',low_memory=True).sample(frac=0.20)\n",
        "df=dff.copy()"
      ],
      "execution_count": null,
      "outputs": [
        {
          "output_type": "stream",
          "text": [
            "/usr/local/lib/python3.6/dist-packages/IPython/core/interactiveshell.py:2718: DtypeWarning: Columns (19,47,55,112,123,124,125,128,129,130,133,139,140,141) have mixed types.Specify dtype option on import or set low_memory=False.\n",
            "  interactivity=interactivity, compiler=compiler, result=result)\n"
          ],
          "name": "stderr"
        }
      ]
    },
    {
      "cell_type": "code",
      "metadata": {
        "id": "H4KGLyX_Agdd",
        "colab_type": "code",
        "colab": {}
      },
      "source": [
        ""
      ],
      "execution_count": null,
      "outputs": []
    },
    {
      "cell_type": "code",
      "metadata": {
        "id": "y54_D-x4Ajfa",
        "colab_type": "code",
        "colab": {}
      },
      "source": [
        ""
      ],
      "execution_count": null,
      "outputs": []
    },
    {
      "cell_type": "code",
      "metadata": {
        "id": "5RquVE6CEr2s",
        "colab_type": "code",
        "colab": {}
      },
      "source": [
        ""
      ],
      "execution_count": null,
      "outputs": []
    },
    {
      "cell_type": "code",
      "metadata": {
        "id": "bXHgta-hEtP5",
        "colab_type": "code",
        "colab": {}
      },
      "source": [
        ""
      ],
      "execution_count": null,
      "outputs": []
    },
    {
      "cell_type": "code",
      "metadata": {
        "id": "ArfLxwMcFONd",
        "colab_type": "code",
        "colab": {}
      },
      "source": [
        "###seprating columns based on integer/float or object. This can help us in feature engineering process\n",
        "treat_num=[]\n",
        "treat_cat=[]\n",
        "for i in df.columns:\n",
        "  if (df[i].dtypes==np.float64) or (df[i].dtypes==np.int64) or (df[i].dtypes==np.int32) or (df[i].dtypes==np.float32):\n",
        "    treat_num.append(i)\n",
        "  else:\n",
        "    treat_cat.append(i)"
      ],
      "execution_count": null,
      "outputs": []
    },
    {
      "cell_type": "code",
      "metadata": {
        "id": "ZppM8P3cFPJx",
        "colab_type": "code",
        "colab": {}
      },
      "source": [
        "# Replace the name of some columns\n",
        "df = df.rename(columns={\"loan_amnt\": \"loan_amount\", \"funded_amnt\": \"funded_amount\", \"funded_amnt_inv\": \"investor_funds\",\n",
        "                       \"int_rate\": \"interest_rate\", \"annual_inc\": \"annual_income\"})\n",
        "\n",
        "# Drop irrelevant columns\n",
        "df.drop(['id','member_id','emp_title', 'url', 'desc', 'zip_code', 'title'], axis=1, inplace=True)"
      ],
      "execution_count": null,
      "outputs": []
    },
    {
      "cell_type": "code",
      "metadata": {
        "id": "OT0_2rTDHWuG",
        "colab_type": "code",
        "colab": {
          "base_uri": "https://localhost:8080/",
          "height": 131
        },
        "outputId": "cad992f6-152b-4c0e-9d59-ac3a56b95ca6"
      },
      "source": [
        "#### range most of the loans which are issues\n",
        "df.groupby(by='loan_amount').size().sort_values(ascending=False).head()"
      ],
      "execution_count": null,
      "outputs": [
        {
          "output_type": "execute_result",
          "data": {
            "text/plain": [
              "loan_amount\n",
              "10000    37654\n",
              "20000    26214\n",
              "15000    24527\n",
              "12000    24404\n",
              "35000    17046\n",
              "dtype: int64"
            ]
          },
          "metadata": {
            "tags": []
          },
          "execution_count": 167
        }
      ]
    },
    {
      "cell_type": "code",
      "metadata": {
        "id": "n5Ek5oCAHfSF",
        "colab_type": "code",
        "colab": {}
      },
      "source": [
        "## we can see that most of the loan amounts issues are in range 10000-20000"
      ],
      "execution_count": null,
      "outputs": []
    },
    {
      "cell_type": "code",
      "metadata": {
        "id": "j5bK5Y5DS8PP",
        "colab_type": "code",
        "colab": {
          "base_uri": "https://localhost:8080/",
          "height": 131
        },
        "outputId": "fb254ad3-8043-4731-b4b8-8b123b2b4c9d"
      },
      "source": [
        "##i took 20% of the random sample and it looks like Mar-2016 has most number of loans that are issued\n",
        "df.groupby(by='issue_d').size().sort_values(ascending=False).head()"
      ],
      "execution_count": null,
      "outputs": [
        {
          "output_type": "execute_result",
          "data": {
            "text/plain": [
              "issue_d\n",
              "Mar-2016    12421\n",
              "Oct-2015     9777\n",
              "May-2018     9348\n",
              "Aug-2018     9330\n",
              "Jul-2015     9226\n",
              "dtype: int64"
            ]
          },
          "metadata": {
            "tags": []
          },
          "execution_count": 169
        }
      ]
    },
    {
      "cell_type": "code",
      "metadata": {
        "id": "Fweop0_FTPMg",
        "colab_type": "code",
        "colab": {}
      },
      "source": [
        "import seaborn as sns"
      ],
      "execution_count": null,
      "outputs": []
    },
    {
      "cell_type": "code",
      "metadata": {
        "id": "TWeIsqFrUzJd",
        "colab_type": "code",
        "colab": {
          "base_uri": "https://localhost:8080/",
          "height": 368
        },
        "outputId": "60d14a0a-0e16-40ff-935b-b18aca413d25"
      },
      "source": [
        "import matplotlib.pyplot as plt\n",
        "\n",
        "fig,ax=plt.subplots(1,3,figsize=(16,5))\n",
        "sns.distplot(df['loan_amount'],ax=ax[0],color='#F7522F')\n",
        "ax[0].set_title('Loan Applied by the Borrower',fontsize=14)\n",
        "sns.distplot(df['funded_amount'],ax=ax[1],color='#2F8FF7')\n",
        "ax[1].set_title('Amount Funded',fontsize=14)\n",
        "sns.distplot(df['investor_funds'],ax=ax[2],color='#2EAD46')\n",
        "ax[1].set_title('Investor Funds',fontsize=14)"
      ],
      "execution_count": null,
      "outputs": [
        {
          "output_type": "execute_result",
          "data": {
            "text/plain": [
              "Text(0.5, 1.0, 'Investor Funds')"
            ]
          },
          "metadata": {
            "tags": []
          },
          "execution_count": 171
        },
        {
          "output_type": "display_data",
          "data": {
            "image/png": "[encoded data removed]",
            "text/plain": [
              "<Figure size 1152x360 with 3 Axes>"
            ]
          },
          "metadata": {
            "tags": [],
            "needs_background": "light"
          }
        }
      ]
    },
    {
      "cell_type": "code",
      "metadata": {
        "id": "g9caOi9YV-F1",
        "colab_type": "code",
        "colab": {
          "base_uri": "https://localhost:8080/",
          "height": 517
        },
        "outputId": "dedbec58-c425-495a-878f-ad575c5beddc"
      },
      "source": [
        "###isssue date\n",
        "\n",
        "df_series= pd.to_datetime(df['issue_d'])\n",
        "df['year']=df_series.dt.year\n",
        "\n",
        "plt.figure(figsize=(12,8))\n",
        "sns.barplot('year','loan_amount',data=df)\n",
        "plt.title('Insurance of loans',fontsize=18)\n",
        "plt.show()"
      ],
      "execution_count": null,
      "outputs": [
        {
          "output_type": "display_data",
          "data": {
            "image/png": "[encoded data removed]",
            "text/plain": [
              "<Figure size 864x576 with 1 Axes>"
            ]
          },
          "metadata": {
            "tags": [],
            "needs_background": "light"
          }
        }
      ]
    },
    {
      "cell_type": "code",
      "metadata": {
        "id": "6g8RycloyzJb",
        "colab_type": "code",
        "colab": {
          "base_uri": "https://localhost:8080/",
          "height": 180
        },
        "outputId": "008abe27-0576-4c77-ecd6-7435682ad2d4"
      },
      "source": [
        "df['loan_status'].value_counts()"
      ],
      "execution_count": null,
      "outputs": [
        {
          "output_type": "execute_result",
          "data": {
            "text/plain": [
              "Fully Paid                                             208218\n",
              "Current                                                184341\n",
              "Charged Off                                             52250\n",
              "Late (31-120 days)                                       4279\n",
              "In Grace Period                                          1767\n",
              "Late (16-30 days)                                         732\n",
              "Does not meet the credit policy. Status:Fully Paid        401\n",
              "Does not meet the credit policy. Status:Charged Off       140\n",
              "Default                                                     6\n",
              "Name: loan_status, dtype: int64"
            ]
          },
          "metadata": {
            "tags": []
          },
          "execution_count": 173
        }
      ]
    },
    {
      "cell_type": "code",
      "metadata": {
        "id": "Y4IyVQTpo2u8",
        "colab_type": "code",
        "colab": {}
      },
      "source": [
        "###Determining the bad loan columns\n",
        "\n",
        "bad_loan= ['charged off','Late (31-120 days)','In Grace Period','Late (16-30 days)','Does not meet the credit policy. Status:Charged Off']\n",
        "df['loan_condition']= np.nan\n",
        "\n",
        "def loan_condition(status):\n",
        "\n",
        "  if status in bad_loan:\n",
        "    return 'Bad Loan'\n",
        "  else:\n",
        "    return 'Good Loan'\n",
        "\n",
        "df['loan_condition']= df['loan_status'].apply(loan_condition)"
      ],
      "execution_count": null,
      "outputs": []
    },
    {
      "cell_type": "code",
      "metadata": {
        "id": "qfLYzMu9pjMU",
        "colab_type": "code",
        "colab": {
          "base_uri": "https://localhost:8080/",
          "height": 488
        },
        "outputId": "89f53735-cbe6-4786-a83d-8bcef77a887a"
      },
      "source": [
        "labels =\"Good Loans\", \"Bad Loans\"\n",
        "\n",
        "df[\"loan_condition\"].value_counts().plot.pie(explode=[0,0.25], autopct='%1.2f%%', shadow=True, \n",
        "                                             labels=labels, fontsize=16, startangle=70,figsize=(16,8))\n",
        "\n"
      ],
      "execution_count": null,
      "outputs": [
        {
          "output_type": "execute_result",
          "data": {
            "text/plain": [
              "<matplotlib.axes._subplots.AxesSubplot at 0x7f0bccfbd128>"
            ]
          },
          "metadata": {
            "tags": []
          },
          "execution_count": 175
        },
        {
          "output_type": "display_data",
          "data": {
            "image/png": "[encoded data removed]",
            "text/plain": [
              "<Figure size 1152x576 with 1 Axes>"
            ]
          },
          "metadata": {
            "tags": []
          }
        }
      ]
    },
    {
      "cell_type": "code",
      "metadata": {
        "id": "0v688ig05kNF",
        "colab_type": "code",
        "colab": {
          "base_uri": "https://localhost:8080/",
          "height": 66
        },
        "outputId": "e663ca9d-7ef2-49c5-e1c3-d1c401b578e4"
      },
      "source": [
        "df['loan_condition'].value_counts()"
      ],
      "execution_count": null,
      "outputs": [
        {
          "output_type": "execute_result",
          "data": {
            "text/plain": [
              "Good Loan    445216\n",
              "Bad Loan       6918\n",
              "Name: loan_condition, dtype: int64"
            ]
          },
          "metadata": {
            "tags": []
          },
          "execution_count": 176
        }
      ]
    },
    {
      "cell_type": "code",
      "metadata": {
        "id": "o7iysSyS48TZ",
        "colab_type": "code",
        "colab": {}
      },
      "source": [
        ""
      ],
      "execution_count": null,
      "outputs": []
    },
    {
      "cell_type": "code",
      "metadata": {
        "id": "fJm9gl-w87cl",
        "colab_type": "code",
        "colab": {}
      },
      "source": [
        "df['loan_condition_int']=np.nan\n",
        "df['loan_condition_int']=df.loan_condition_int.reset_index(drop=True)"
      ],
      "execution_count": null,
      "outputs": []
    },
    {
      "cell_type": "code",
      "metadata": {
        "id": "fNQgVu74H1ZF",
        "colab_type": "code",
        "colab": {}
      },
      "source": [
        ""
      ],
      "execution_count": null,
      "outputs": []
    },
    {
      "cell_type": "code",
      "metadata": {
        "id": "3pD1ydt7FT6e",
        "colab_type": "code",
        "colab": {}
      },
      "source": [
        "\n",
        "lst = [df]\n",
        "#df['loan_condition_int'] = np.nan\n",
        "a=[]\n",
        "b=[]\n",
        "for col in lst:\n",
        "  col.loc[df['loan_condition'] == 'Bad Loan', 'loan_condition_int'] = 0\n",
        "  col.loc[df['loan_condition'] == 'Good Loan', 'loan_condition_int'] = 1\n",
        "\n",
        "#  col.loc[df['loan_condition'] == 'Bad Loan', 'loan_condition_int'] = 1 \n",
        "    \n",
        "# Convert from float to int the column (This is our label)  \n",
        "df['loan_condition_int']=df['loan_condition_int'].astype(int)"
      ],
      "execution_count": null,
      "outputs": []
    },
    {
      "cell_type": "code",
      "metadata": {
        "id": "-oiGYWgkFm30",
        "colab_type": "code",
        "colab": {
          "base_uri": "https://localhost:8080/",
          "height": 66
        },
        "outputId": "0f6910f6-8a3c-45a0-c160-a1cb75c707c7"
      },
      "source": [
        "df.loan_condition_int.value_counts()"
      ],
      "execution_count": null,
      "outputs": [
        {
          "output_type": "execute_result",
          "data": {
            "text/plain": [
              "1    445216\n",
              "0      6918\n",
              "Name: loan_condition_int, dtype: int64"
            ]
          },
          "metadata": {
            "tags": []
          },
          "execution_count": 179
        }
      ]
    },
    {
      "cell_type": "code",
      "metadata": {
        "id": "c-nmlxpEpmG7",
        "colab_type": "code",
        "colab": {}
      },
      "source": [
        "####loan amount by region\n",
        "\n",
        "\n",
        "# Make a list with each of the regions by state.\n",
        "\n",
        "west = ['CA', 'OR', 'UT','WA', 'CO', 'NV', 'AK', 'MT', 'HI', 'WY', 'ID']\n",
        "south_west = ['AZ', 'TX', 'NM', 'OK']\n",
        "south_east = ['GA', 'NC', 'VA', 'FL', 'KY', 'SC', 'LA', 'AL', 'WV', 'DC', 'AR', 'DE', 'MS', 'TN' ]\n",
        "mid_west = ['IL', 'MO', 'MN', 'OH', 'WI', 'KS', 'MI', 'SD', 'IA', 'NE', 'IN', 'ND']\n",
        "north_east = ['CT', 'NY', 'PA', 'NJ', 'RI','MA', 'MD', 'VT', 'NH', 'ME']\n",
        "\n",
        "\n",
        "\n",
        "df['region'] = np.nan\n",
        "\n",
        "def finding_regions(state):\n",
        "    if state in west:\n",
        "        return 'West'\n",
        "    elif state in south_west:\n",
        "        return 'SouthWest'\n",
        "    elif state in south_east:\n",
        "        return 'SouthEast'\n",
        "    elif state in mid_west:\n",
        "        return 'MidWest'\n",
        "    elif state in north_east:\n",
        "        return 'NorthEast'\n",
        "    \n",
        "\n",
        "\n",
        "df['region'] = df['addr_state'].apply(finding_regions)\n",
        "\n",
        "\n",
        "\n"
      ],
      "execution_count": null,
      "outputs": []
    },
    {
      "cell_type": "code",
      "metadata": {
        "id": "bJW97TMdFlPK",
        "colab_type": "code",
        "colab": {}
      },
      "source": [
        ""
      ],
      "execution_count": null,
      "outputs": []
    },
    {
      "cell_type": "code",
      "metadata": {
        "id": "tj-RfWhounch",
        "colab_type": "code",
        "colab": {}
      },
      "source": [
        "issues_by_year=df.groupby(['year', 'region']).sum()['loan_amount']"
      ],
      "execution_count": null,
      "outputs": []
    },
    {
      "cell_type": "code",
      "metadata": {
        "id": "tXun9Go4u9Tq",
        "colab_type": "code",
        "colab": {
          "base_uri": "https://localhost:8080/",
          "height": 415
        },
        "outputId": "52d87ee9-6b08-4be4-9cde-bbf8e2e2ab28"
      },
      "source": [
        "issues_by_year.unstack().plot(stacked=False,  grid=False, legend=True, figsize=(15,6))"
      ],
      "execution_count": null,
      "outputs": [
        {
          "output_type": "execute_result",
          "data": {
            "text/plain": [
              "<matplotlib.axes._subplots.AxesSubplot at 0x7f0bcb165e48>"
            ]
          },
          "metadata": {
            "tags": []
          },
          "execution_count": 182
        },
        {
          "output_type": "display_data",
          "data": {
            "image/png": "[encoded data removed]",
            "text/plain": [
              "<Figure size 1080x432 with 1 Axes>"
            ]
          },
          "metadata": {
            "tags": [],
            "needs_background": "light"
          }
        }
      ]
    },
    {
      "cell_type": "code",
      "metadata": {
        "id": "nh1MqIBqve3m",
        "colab_type": "code",
        "colab": {
          "base_uri": "https://localhost:8080/",
          "height": 403
        },
        "outputId": "76262c20-9080-4cbd-c60a-cb7e6b4067c5"
      },
      "source": [
        "###avg interest rate by region\n",
        "\n",
        "avg_interest_rate=df.groupby(['year','region']).interest_rate.mean()\n",
        "avg_interest_rate.unstack().plot(stacked=False,  grid=False, legend=True, figsize=(15,6))"
      ],
      "execution_count": null,
      "outputs": [
        {
          "output_type": "execute_result",
          "data": {
            "text/plain": [
              "<matplotlib.axes._subplots.AxesSubplot at 0x7f0bcae80da0>"
            ]
          },
          "metadata": {
            "tags": []
          },
          "execution_count": 183
        },
        {
          "output_type": "display_data",
          "data": {
            "image/png": "[encoded data removed]",
            "text/plain": [
              "<Figure size 1080x432 with 1 Axes>"
            ]
          },
          "metadata": {
            "tags": [],
            "needs_background": "light"
          }
        }
      ]
    },
    {
      "cell_type": "code",
      "metadata": {
        "id": "11MQsSfRoqOv",
        "colab_type": "code",
        "colab": {
          "base_uri": "https://localhost:8080/",
          "height": 403
        },
        "outputId": "560b0fc2-f1f3-4c8e-d344-2cd32a489965"
      },
      "source": [
        "##avg employement length by region\n",
        "\n",
        "df['emp_length_int'] = np.nan\n",
        "lst=[df]\n",
        "for col in lst:\n",
        "    col.loc[col['emp_length'] == '10+ years', \"emp_length_int\"] = 10\n",
        "    col.loc[col['emp_length'] == '9 years', \"emp_length_int\"] = 9\n",
        "    col.loc[col['emp_length'] == '8 years', \"emp_length_int\"] = 8\n",
        "    col.loc[col['emp_length'] == '7 years', \"emp_length_int\"] = 7\n",
        "    col.loc[col['emp_length'] == '6 years', \"emp_length_int\"] = 6\n",
        "    col.loc[col['emp_length'] == '5 years', \"emp_length_int\"] = 5\n",
        "    col.loc[col['emp_length'] == '4 years', \"emp_length_int\"] = 4\n",
        "    col.loc[col['emp_length'] == '3 years', \"emp_length_int\"] = 3\n",
        "    col.loc[col['emp_length'] == '2 years', \"emp_length_int\"] = 2\n",
        "    col.loc[col['emp_length'] == '1 year', \"emp_length_int\"] = 1\n",
        "    col.loc[col['emp_length'] == '< 1 year', \"emp_length_int\"] = 0.5\n",
        "    col.loc[col['emp_length'] == 'n/a', \"emp_length_int\"] = 0\n",
        "\n",
        "\n",
        "emp_leng=df.groupby(['year','region']).emp_length_int.mean()\n",
        "emp_leng.unstack().plot(kind='area',stacked=True,  grid=False, legend=True, figsize=(15,6),colormap=plt.cm.inferno)"
      ],
      "execution_count": null,
      "outputs": [
        {
          "output_type": "execute_result",
          "data": {
            "text/plain": [
              "<matplotlib.axes._subplots.AxesSubplot at 0x7f0bd4114f28>"
            ]
          },
          "metadata": {
            "tags": []
          },
          "execution_count": 184
        },
        {
          "output_type": "display_data",
          "data": {
            "image/png": "[encoded data removed]",
            "text/plain": [
              "<Figure size 1080x432 with 1 Axes>"
            ]
          },
          "metadata": {
            "tags": [],
            "needs_background": "light"
          }
        }
      ]
    },
    {
      "cell_type": "code",
      "metadata": {
        "id": "VqMq23xspldD",
        "colab_type": "code",
        "colab": {
          "base_uri": "https://localhost:8080/",
          "height": 405
        },
        "outputId": "b91975b6-c6e7-45ff-a744-b98d98560e13"
      },
      "source": [
        "##type of loan with average amount according to year\n",
        "\n",
        "type_loan=df.groupby(['purpose','year']).loan_amount.mean().loc[['debt_consolidation','credit_card','home_improvement','other','major_purchase' ]]\n",
        "type_loan.unstack().plot(kind='area',stacked=True,  grid=False, legend=True, figsize=(15,6),colormap=plt.cm.inferno)"
      ],
      "execution_count": null,
      "outputs": [
        {
          "output_type": "execute_result",
          "data": {
            "text/plain": [
              "<matplotlib.axes._subplots.AxesSubplot at 0x7f0bc8f17588>"
            ]
          },
          "metadata": {
            "tags": []
          },
          "execution_count": 185
        },
        {
          "output_type": "display_data",
          "data": {
            "image/png": "[encoded data removed]",
            "text/plain": [
              "<Figure size 1080x432 with 1 Axes>"
            ]
          },
          "metadata": {
            "tags": [],
            "needs_background": "light"
          }
        }
      ]
    },
    {
      "cell_type": "markdown",
      "metadata": {
        "id": "74-2DOQ6MNMV",
        "colab_type": "text"
      },
      "source": [
        "#### We can see that there is a large number of credit card loans have been taken in all the years followed by debt_con and home_imporvement"
      ]
    },
    {
      "cell_type": "code",
      "metadata": {
        "id": "WJ1iqN1Eqsea",
        "colab_type": "code",
        "colab": {
          "base_uri": "https://localhost:8080/",
          "height": 403
        },
        "outputId": "dd8b8416-b7db-4478-909e-1ffa8ea3eecb"
      },
      "source": [
        "l1=['debt_consolidation','credit_card','home_improvement','other','major_purchase']\n",
        "\n",
        "df1=df.loc[df['purpose'].isin(l1)]\n",
        "type_loan=df1.groupby(['year','purpose']).loan_amount.mean()\n",
        "type_loan.unstack().plot(kind='area',stacked=True,  grid=False, legend=True, figsize=(15,6),colormap=plt.cm.inferno)"
      ],
      "execution_count": null,
      "outputs": [
        {
          "output_type": "execute_result",
          "data": {
            "text/plain": [
              "<matplotlib.axes._subplots.AxesSubplot at 0x7f0bc8afb860>"
            ]
          },
          "metadata": {
            "tags": []
          },
          "execution_count": 186
        },
        {
          "output_type": "display_data",
          "data": {
            "image/png": "[encoded data removed]",
            "text/plain": [
              "<Figure size 1080x432 with 1 Axes>"
            ]
          },
          "metadata": {
            "tags": [],
            "needs_background": "light"
          }
        }
      ]
    },
    {
      "cell_type": "code",
      "metadata": {
        "id": "9NXQZI5duD7L",
        "colab_type": "code",
        "colab": {
          "base_uri": "https://localhost:8080/",
          "height": 212
        },
        "outputId": "6b558af1-419c-4fd5-ae94-c69941bc1ac5"
      },
      "source": [
        "#####highested amount of loan issues by state\n",
        "df.groupby(by=['year','addr_state']).loan_amount.sum().sort_values(ascending=False).head(10)\n",
        "\n",
        "###We can see that from 2016 California is the state where we had a minimum loan followed by Texas and Nevada in 2018"
      ],
      "execution_count": null,
      "outputs": [
        {
          "output_type": "execute_result",
          "data": {
            "text/plain": [
              "year  addr_state\n",
              "2018  CA            220306750\n",
              "2017  CA            181553425\n",
              "2015  CA            176331425\n",
              "2016  CA            173844975\n",
              "2018  TX            135584350\n",
              "      NY            124065300\n",
              "      FL            116973050\n",
              "2017  TX            114685750\n",
              "2016  TX            114191000\n",
              "2015  TX            111237750\n",
              "Name: loan_amount, dtype: int64"
            ]
          },
          "metadata": {
            "tags": []
          },
          "execution_count": 187
        }
      ]
    },
    {
      "cell_type": "code",
      "metadata": {
        "id": "fQgFEKj8FlR0",
        "colab_type": "code",
        "colab": {}
      },
      "source": [
        ""
      ],
      "execution_count": null,
      "outputs": []
    },
    {
      "cell_type": "code",
      "metadata": {
        "colab_type": "code",
        "id": "vQx48GL1M9-7",
        "colab": {}
      },
      "source": [
        "####### we will see in which states we have the higher operational activity\n",
        "### we are trying to find the state who has decent risk"
      ],
      "execution_count": null,
      "outputs": []
    },
    {
      "cell_type": "code",
      "metadata": {
        "id": "JkZwz6zbGacj",
        "colab_type": "code",
        "colab": {}
      },
      "source": [
        "by_loan_amount= df.groupby(['region','addr_state'],as_index=False).loan_amount.sum()"
      ],
      "execution_count": null,
      "outputs": []
    },
    {
      "cell_type": "code",
      "metadata": {
        "id": "G-wd5NdNQMXq",
        "colab_type": "code",
        "colab": {}
      },
      "source": [
        "by_interest_rate= df.groupby(['region','addr_state'],as_index=False).interest_rate.mean()\n",
        "by_income_rate= df.groupby(['region','addr_state'],as_index=False).annual_income.mean()"
      ],
      "execution_count": null,
      "outputs": []
    },
    {
      "cell_type": "code",
      "metadata": {
        "id": "cazI0LJtWTnA",
        "colab_type": "code",
        "colab": {
          "base_uri": "https://localhost:8080/",
          "height": 191
        },
        "outputId": "1b502c64-84f6-413c-9eca-7d758ac5cc6f"
      },
      "source": [
        "by_loan_amount.head()"
      ],
      "execution_count": null,
      "outputs": [
        {
          "output_type": "execute_result",
          "data": {
            "text/html": [
              "<div>\n",
              "<style scoped>\n",
              "    .dataframe tbody tr th:only-of-type {\n",
              "        vertical-align: middle;\n",
              "    }\n",
              "\n",
              "    .dataframe tbody tr th {\n",
              "        vertical-align: top;\n",
              "    }\n",
              "\n",
              "    .dataframe thead th {\n",
              "        text-align: right;\n",
              "    }\n",
              "</style>\n",
              "<table border=\"1\" class=\"dataframe\">\n",
              "  <thead>\n",
              "    <tr style=\"text-align: right;\">\n",
              "      <th></th>\n",
              "      <th>region</th>\n",
              "      <th>addr_state</th>\n",
              "      <th>loan_amount</th>\n",
              "    </tr>\n",
              "  </thead>\n",
              "  <tbody>\n",
              "    <tr>\n",
              "      <th>0</th>\n",
              "      <td>MidWest</td>\n",
              "      <td>IL</td>\n",
              "      <td>283520625</td>\n",
              "    </tr>\n",
              "    <tr>\n",
              "      <th>1</th>\n",
              "      <td>MidWest</td>\n",
              "      <td>IN</td>\n",
              "      <td>108216700</td>\n",
              "    </tr>\n",
              "    <tr>\n",
              "      <th>2</th>\n",
              "      <td>MidWest</td>\n",
              "      <td>KS</td>\n",
              "      <td>59141350</td>\n",
              "    </tr>\n",
              "    <tr>\n",
              "      <th>3</th>\n",
              "      <td>MidWest</td>\n",
              "      <td>MI</td>\n",
              "      <td>170631150</td>\n",
              "    </tr>\n",
              "    <tr>\n",
              "      <th>4</th>\n",
              "      <td>MidWest</td>\n",
              "      <td>MN</td>\n",
              "      <td>116190800</td>\n",
              "    </tr>\n",
              "  </tbody>\n",
              "</table>\n",
              "</div>"
            ],
            "text/plain": [
              "    region addr_state  loan_amount\n",
              "0  MidWest         IL    283520625\n",
              "1  MidWest         IN    108216700\n",
              "2  MidWest         KS     59141350\n",
              "3  MidWest         MI    170631150\n",
              "4  MidWest         MN    116190800"
            ]
          },
          "metadata": {
            "tags": []
          },
          "execution_count": 191
        }
      ]
    },
    {
      "cell_type": "code",
      "metadata": {
        "id": "UFQk3hUMWphs",
        "colab_type": "code",
        "colab": {
          "base_uri": "https://localhost:8080/",
          "height": 191
        },
        "outputId": "c7b6fa85-c423-40fd-de56-46a8f75dcfcd"
      },
      "source": [
        "by_income_rate.head()"
      ],
      "execution_count": null,
      "outputs": [
        {
          "output_type": "execute_result",
          "data": {
            "text/html": [
              "<div>\n",
              "<style scoped>\n",
              "    .dataframe tbody tr th:only-of-type {\n",
              "        vertical-align: middle;\n",
              "    }\n",
              "\n",
              "    .dataframe tbody tr th {\n",
              "        vertical-align: top;\n",
              "    }\n",
              "\n",
              "    .dataframe thead th {\n",
              "        text-align: right;\n",
              "    }\n",
              "</style>\n",
              "<table border=\"1\" class=\"dataframe\">\n",
              "  <thead>\n",
              "    <tr style=\"text-align: right;\">\n",
              "      <th></th>\n",
              "      <th>region</th>\n",
              "      <th>addr_state</th>\n",
              "      <th>annual_income</th>\n",
              "    </tr>\n",
              "  </thead>\n",
              "  <tbody>\n",
              "    <tr>\n",
              "      <th>0</th>\n",
              "      <td>MidWest</td>\n",
              "      <td>IL</td>\n",
              "      <td>80630.392173</td>\n",
              "    </tr>\n",
              "    <tr>\n",
              "      <th>1</th>\n",
              "      <td>MidWest</td>\n",
              "      <td>IN</td>\n",
              "      <td>71491.148296</td>\n",
              "    </tr>\n",
              "    <tr>\n",
              "      <th>2</th>\n",
              "      <td>MidWest</td>\n",
              "      <td>KS</td>\n",
              "      <td>72074.889031</td>\n",
              "    </tr>\n",
              "    <tr>\n",
              "      <th>3</th>\n",
              "      <td>MidWest</td>\n",
              "      <td>MI</td>\n",
              "      <td>71312.334041</td>\n",
              "    </tr>\n",
              "    <tr>\n",
              "      <th>4</th>\n",
              "      <td>MidWest</td>\n",
              "      <td>MN</td>\n",
              "      <td>73480.635969</td>\n",
              "    </tr>\n",
              "  </tbody>\n",
              "</table>\n",
              "</div>"
            ],
            "text/plain": [
              "    region addr_state  annual_income\n",
              "0  MidWest         IL   80630.392173\n",
              "1  MidWest         IN   71491.148296\n",
              "2  MidWest         KS   72074.889031\n",
              "3  MidWest         MI   71312.334041\n",
              "4  MidWest         MN   73480.635969"
            ]
          },
          "metadata": {
            "tags": []
          },
          "execution_count": 192
        }
      ]
    },
    {
      "cell_type": "code",
      "metadata": {
        "id": "3wdjPgELWt2s",
        "colab_type": "code",
        "colab": {
          "base_uri": "https://localhost:8080/",
          "height": 191
        },
        "outputId": "8fa9c9fb-87f2-4fef-cb7e-3ae346803c18"
      },
      "source": [
        "by_income_rate.head()"
      ],
      "execution_count": null,
      "outputs": [
        {
          "output_type": "execute_result",
          "data": {
            "text/html": [
              "<div>\n",
              "<style scoped>\n",
              "    .dataframe tbody tr th:only-of-type {\n",
              "        vertical-align: middle;\n",
              "    }\n",
              "\n",
              "    .dataframe tbody tr th {\n",
              "        vertical-align: top;\n",
              "    }\n",
              "\n",
              "    .dataframe thead th {\n",
              "        text-align: right;\n",
              "    }\n",
              "</style>\n",
              "<table border=\"1\" class=\"dataframe\">\n",
              "  <thead>\n",
              "    <tr style=\"text-align: right;\">\n",
              "      <th></th>\n",
              "      <th>region</th>\n",
              "      <th>addr_state</th>\n",
              "      <th>annual_income</th>\n",
              "    </tr>\n",
              "  </thead>\n",
              "  <tbody>\n",
              "    <tr>\n",
              "      <th>0</th>\n",
              "      <td>MidWest</td>\n",
              "      <td>IL</td>\n",
              "      <td>80630.392173</td>\n",
              "    </tr>\n",
              "    <tr>\n",
              "      <th>1</th>\n",
              "      <td>MidWest</td>\n",
              "      <td>IN</td>\n",
              "      <td>71491.148296</td>\n",
              "    </tr>\n",
              "    <tr>\n",
              "      <th>2</th>\n",
              "      <td>MidWest</td>\n",
              "      <td>KS</td>\n",
              "      <td>72074.889031</td>\n",
              "    </tr>\n",
              "    <tr>\n",
              "      <th>3</th>\n",
              "      <td>MidWest</td>\n",
              "      <td>MI</td>\n",
              "      <td>71312.334041</td>\n",
              "    </tr>\n",
              "    <tr>\n",
              "      <th>4</th>\n",
              "      <td>MidWest</td>\n",
              "      <td>MN</td>\n",
              "      <td>73480.635969</td>\n",
              "    </tr>\n",
              "  </tbody>\n",
              "</table>\n",
              "</div>"
            ],
            "text/plain": [
              "    region addr_state  annual_income\n",
              "0  MidWest         IL   80630.392173\n",
              "1  MidWest         IN   71491.148296\n",
              "2  MidWest         KS   72074.889031\n",
              "3  MidWest         MI   71312.334041\n",
              "4  MidWest         MN   73480.635969"
            ]
          },
          "metadata": {
            "tags": []
          },
          "execution_count": 193
        }
      ]
    },
    {
      "cell_type": "markdown",
      "metadata": {
        "id": "_JsZcWmccvuL",
        "colab_type": "text"
      },
      "source": [
        "We are using **OrderedDic** as a framework to put the data in order which helps while joining it. "
      ]
    },
    {
      "cell_type": "code",
      "metadata": {
        "id": "owXRtWEDWxxO",
        "colab_type": "code",
        "colab": {
          "base_uri": "https://localhost:8080/",
          "height": 191
        },
        "outputId": "185ed108-07de-462e-c51c-637bd020a8ee"
      },
      "source": [
        "###take the values to a list for a visualization purpose\n",
        "\n",
        "states = by_loan_amount['addr_state'].values.tolist()\n",
        "average_loan_amounts = by_loan_amount['loan_amount'].values.tolist()\n",
        "average_interest_rates = by_interest_rate['interest_rate'].values.tolist()\n",
        "average_annual_income = by_income_rate['annual_income'].values.tolist()\n",
        "\n",
        "\n",
        "from collections import OrderedDict\n",
        "\n",
        "metrics_data= OrderedDict([('state_codes',states),('issues_loans',average_loan_amounts),('interest_rate',average_interest_rates),('annual_income',average_annual_income)])\n",
        "metrics_df= pd.DataFrame.from_dict(metrics_data)\n",
        "\n",
        "metrics_df.head()"
      ],
      "execution_count": null,
      "outputs": [
        {
          "output_type": "execute_result",
          "data": {
            "text/html": [
              "<div>\n",
              "<style scoped>\n",
              "    .dataframe tbody tr th:only-of-type {\n",
              "        vertical-align: middle;\n",
              "    }\n",
              "\n",
              "    .dataframe tbody tr th {\n",
              "        vertical-align: top;\n",
              "    }\n",
              "\n",
              "    .dataframe thead th {\n",
              "        text-align: right;\n",
              "    }\n",
              "</style>\n",
              "<table border=\"1\" class=\"dataframe\">\n",
              "  <thead>\n",
              "    <tr style=\"text-align: right;\">\n",
              "      <th></th>\n",
              "      <th>state_codes</th>\n",
              "      <th>issues_loans</th>\n",
              "      <th>interest_rate</th>\n",
              "      <th>annual_income</th>\n",
              "    </tr>\n",
              "  </thead>\n",
              "  <tbody>\n",
              "    <tr>\n",
              "      <th>0</th>\n",
              "      <td>IL</td>\n",
              "      <td>283520625</td>\n",
              "      <td>12.963647</td>\n",
              "      <td>80630.392173</td>\n",
              "    </tr>\n",
              "    <tr>\n",
              "      <th>1</th>\n",
              "      <td>IN</td>\n",
              "      <td>108216700</td>\n",
              "      <td>13.115495</td>\n",
              "      <td>71491.148296</td>\n",
              "    </tr>\n",
              "    <tr>\n",
              "      <th>2</th>\n",
              "      <td>KS</td>\n",
              "      <td>59141350</td>\n",
              "      <td>12.965988</td>\n",
              "      <td>72074.889031</td>\n",
              "    </tr>\n",
              "    <tr>\n",
              "      <th>3</th>\n",
              "      <td>MI</td>\n",
              "      <td>170631150</td>\n",
              "      <td>13.191525</td>\n",
              "      <td>71312.334041</td>\n",
              "    </tr>\n",
              "    <tr>\n",
              "      <th>4</th>\n",
              "      <td>MN</td>\n",
              "      <td>116190800</td>\n",
              "      <td>12.946597</td>\n",
              "      <td>73480.635969</td>\n",
              "    </tr>\n",
              "  </tbody>\n",
              "</table>\n",
              "</div>"
            ],
            "text/plain": [
              "  state_codes  issues_loans  interest_rate  annual_income\n",
              "0          IL     283520625      12.963647   80630.392173\n",
              "1          IN     108216700      13.115495   71491.148296\n",
              "2          KS      59141350      12.965988   72074.889031\n",
              "3          MI     170631150      13.191525   71312.334041\n",
              "4          MN     116190800      12.946597   73480.635969"
            ]
          },
          "metadata": {
            "tags": []
          },
          "execution_count": 194
        }
      ]
    },
    {
      "cell_type": "code",
      "metadata": {
        "id": "IWQLzRP0XLPQ",
        "colab_type": "code",
        "colab": {}
      },
      "source": [
        " ######Importance of the credit score\n",
        "\n",
        "###We can see that low grade mean hight amount plus higher interest rate "
      ],
      "execution_count": null,
      "outputs": []
    },
    {
      "cell_type": "code",
      "metadata": {
        "id": "eBQPmB7OjERT",
        "colab_type": "code",
        "colab": {
          "base_uri": "https://localhost:8080/",
          "height": 147
        },
        "outputId": "95afd1db-76a1-4ac6-e829-78e8ee9ef3bc"
      },
      "source": [
        "df.grade.value_counts()"
      ],
      "execution_count": null,
      "outputs": [
        {
          "output_type": "execute_result",
          "data": {
            "text/plain": [
              "B    132779\n",
              "C    130018\n",
              "A     86849\n",
              "D     64461\n",
              "E     27239\n",
              "F      8356\n",
              "G      2432\n",
              "Name: grade, dtype: int64"
            ]
          },
          "metadata": {
            "tags": []
          },
          "execution_count": 196
        }
      ]
    },
    {
      "cell_type": "code",
      "metadata": {
        "id": "L8AvxQ-KL3aj",
        "colab_type": "code",
        "colab": {
          "base_uri": "https://localhost:8080/",
          "height": 163
        },
        "outputId": "b0c20bf8-2c03-46e7-fec1-09aabd17ece0"
      },
      "source": [
        "df.groupby('grade').loan_amount.mean()"
      ],
      "execution_count": null,
      "outputs": [
        {
          "output_type": "execute_result",
          "data": {
            "text/plain": [
              "grade\n",
              "A    14622.152817\n",
              "B    14144.217647\n",
              "C    15007.273224\n",
              "D    15687.661144\n",
              "E    17498.059767\n",
              "F    19018.070847\n",
              "G    20192.968750\n",
              "Name: loan_amount, dtype: float64"
            ]
          },
          "metadata": {
            "tags": []
          },
          "execution_count": 197
        }
      ]
    },
    {
      "cell_type": "code",
      "metadata": {
        "id": "f9K_hLRkMBAR",
        "colab_type": "code",
        "colab": {
          "base_uri": "https://localhost:8080/",
          "height": 163
        },
        "outputId": "64580885-8a48-40ec-85eb-5716b254745e"
      },
      "source": [
        "df.groupby('grade').interest_rate.mean()"
      ],
      "execution_count": null,
      "outputs": [
        {
          "output_type": "execute_result",
          "data": {
            "text/plain": [
              "grade\n",
              "A     7.087188\n",
              "B    10.671956\n",
              "C    14.147564\n",
              "D    18.153819\n",
              "E    21.819709\n",
              "F    25.442052\n",
              "G    28.124350\n",
              "Name: interest_rate, dtype: float64"
            ]
          },
          "metadata": {
            "tags": []
          },
          "execution_count": 198
        }
      ]
    },
    {
      "cell_type": "code",
      "metadata": {
        "id": "WiTN6NMQMo5A",
        "colab_type": "code",
        "colab": {
          "base_uri": "https://localhost:8080/",
          "height": 440
        },
        "outputId": "5c178d99-2eff-42ec-af1b-8fb732b42929"
      },
      "source": [
        "#### grades affecting loan amount and interest rate by year\n",
        "\n",
        "print('loan amount by year',df.groupby(['grade','year']).loan_amount.mean())\n",
        "print('interest rate by year',df.groupby(['grade','year']).interest_rate.mean())"
      ],
      "execution_count": null,
      "outputs": [
        {
          "output_type": "stream",
          "text": [
            "loan amount by year grade  year\n",
            "A      2007     4622.916667\n",
            "       2008     5993.014706\n",
            "       2009     7679.527559\n",
            "       2010     8579.308797\n",
            "       2011     8894.405594\n",
            "                   ...     \n",
            "G      2014    20182.110778\n",
            "       2015    20410.800439\n",
            "       2016    19142.644231\n",
            "       2017    20760.114778\n",
            "       2018    19198.091603\n",
            "Name: loan_amount, Length: 84, dtype: float64\n",
            "interest rate by year grade  year\n",
            "A      2007     7.696667\n",
            "       2008     8.335588\n",
            "       2009     8.625984\n",
            "       2010     7.186499\n",
            "       2011     7.122037\n",
            "                 ...    \n",
            "G      2014    25.823593\n",
            "       2015    26.763289\n",
            "       2016    28.875827\n",
            "       2017    30.881679\n",
            "       2018    30.814046\n",
            "Name: interest_rate, Length: 84, dtype: float64\n"
          ],
          "name": "stdout"
        }
      ]
    },
    {
      "cell_type": "code",
      "metadata": {
        "id": "dvN8eP5lNewe",
        "colab_type": "code",
        "colab": {
          "base_uri": "https://localhost:8080/",
          "height": 295
        },
        "outputId": "b29380d8-0106-4506-a9cb-4ba7bd954492"
      },
      "source": [
        "f, ((ax1,ax2))=plt.subplots(1,2)\n",
        "loan_amout_grade=df.groupby(['year','grade']).loan_amount.mean()\n",
        "loan_amout_grade.unstack().plot(ax=ax1,grid=False, legend=True, figsize=(14,4))\n",
        "ax1.set_title('Grades affecting loan amount by year',fontsize=12)\n",
        "plt.ioff()\n",
        "\n",
        "interest_rate_grade= df.groupby(['year','grade']).interest_rate.mean()\n",
        "interest_rate_grade.unstack().plot(ax=ax2,grid=False, legend=True, figsize=(14,4))\n",
        "ax2.set_title('Grades affecting interest rate by year',fontsize=12)\n",
        "plt.ioff()"
      ],
      "execution_count": null,
      "outputs": [
        {
          "output_type": "display_data",
          "data": {
            "image/png": "[encoded data removed]",
            "text/plain": [
              "<Figure size 1008x288 with 2 Axes>"
            ]
          },
          "metadata": {
            "tags": [],
            "needs_background": "light"
          }
        }
      ]
    },
    {
      "cell_type": "code",
      "metadata": {
        "id": "lPqL7YcwN1r8",
        "colab_type": "code",
        "colab": {
          "base_uri": "https://localhost:8080/",
          "height": 33
        },
        "outputId": "9eaccd80-3d8a-4954-dc3e-464adfda9752"
      },
      "source": [
        "\n",
        "df['loan_amount'].loc[(df['region']=='NorthEast') & (df['loan_status']=='Default')].values.tolist()"
      ],
      "execution_count": null,
      "outputs": [
        {
          "output_type": "execute_result",
          "data": {
            "text/plain": [
              "[8000]"
            ]
          },
          "metadata": {
            "tags": []
          },
          "execution_count": 201
        }
      ]
    },
    {
      "cell_type": "code",
      "metadata": {
        "id": "ecrfO1htZWlc",
        "colab_type": "code",
        "colab": {
          "base_uri": "https://localhost:8080/",
          "height": 33
        },
        "outputId": "c5274294-8bfe-40a4-c8c9-14201269db4f"
      },
      "source": [
        "df['loan_amount'].loc[(df['region'] == 'NorthEast') & (df['loan_status'] == 'Default')].values.tolist()"
      ],
      "execution_count": null,
      "outputs": [
        {
          "output_type": "execute_result",
          "data": {
            "text/plain": [
              "[8000]"
            ]
          },
          "metadata": {
            "tags": []
          },
          "execution_count": 202
        }
      ]
    },
    {
      "cell_type": "code",
      "metadata": {
        "id": "Yw4vUBEvZgs3",
        "colab_type": "code",
        "colab": {
          "base_uri": "https://localhost:8080/",
          "height": 33
        },
        "outputId": "002ee1e1-ee6a-41d7-adc0-4ba97e858321"
      },
      "source": [
        "df['loan_amount'].loc[(df['region'] == 'SouthWest') & (df['loan_status'] == 'Default')].values.tolist()"
      ],
      "execution_count": null,
      "outputs": [
        {
          "output_type": "execute_result",
          "data": {
            "text/plain": [
              "[]"
            ]
          },
          "metadata": {
            "tags": []
          },
          "execution_count": 203
        }
      ]
    },
    {
      "cell_type": "code",
      "metadata": {
        "id": "g3yZw35iZlZp",
        "colab_type": "code",
        "colab": {}
      },
      "source": [
        ""
      ],
      "execution_count": null,
      "outputs": []
    },
    {
      "cell_type": "code",
      "metadata": {
        "id": "gt39_4piZy3q",
        "colab_type": "code",
        "colab": {}
      },
      "source": [
        "#########Feature Engineering"
      ],
      "execution_count": null,
      "outputs": []
    },
    {
      "cell_type": "code",
      "metadata": {
        "id": "qL6pskxPbuGi",
        "colab_type": "code",
        "colab": {}
      },
      "source": [
        "###checking the percentage of missing values\n",
        "\n",
        "\n",
        "df_com= df.copy()\n",
        "#df_1= pd.DataFrame(df_com.isnull().mean()*100,columns=['Percentage'])\n",
        "#df_com[pd.DataFrame(df_com.isnull().mean()*100)]>0"
      ],
      "execution_count": null,
      "outputs": []
    },
    {
      "cell_type": "code",
      "metadata": {
        "id": "t8tlkmzABiAW",
        "colab_type": "code",
        "colab": {}
      },
      "source": [
        ""
      ],
      "execution_count": null,
      "outputs": []
    },
    {
      "cell_type": "code",
      "metadata": {
        "id": "qNdjROgeHnSW",
        "colab_type": "code",
        "colab": {}
      },
      "source": [
        "#df_1= df_1.reset_index()\n",
        "#df_1=df_1.rename({'index':'Column_Name'},axis=1) "
      ],
      "execution_count": null,
      "outputs": []
    },
    {
      "cell_type": "code",
      "metadata": {
        "id": "qdX7HzDrY9Id",
        "colab_type": "code",
        "colab": {}
      },
      "source": [
        "#df_1[df_1['Column_Name']=='last_credit_pull_d']"
      ],
      "execution_count": null,
      "outputs": []
    },
    {
      "cell_type": "markdown",
      "metadata": {
        "id": "5zXoJcxPgZE2",
        "colab_type": "text"
      },
      "source": [
        "We can see that there are more than 100 columns with more than 50% off the data as null. Even if we compute the data the prediciton wont be that much do.. Its better to drop those columns. "
      ]
    },
    {
      "cell_type": "code",
      "metadata": {
        "id": "fc_KP6uRH2EQ",
        "colab_type": "code",
        "colab": {}
      },
      "source": [
        "#df_1= df_1[df_1['Percentage']>0]"
      ],
      "execution_count": null,
      "outputs": []
    },
    {
      "cell_type": "code",
      "metadata": {
        "id": "WjopFhmkIZvK",
        "colab_type": "code",
        "colab": {}
      },
      "source": [
        "### Let impute by either of these mean,median or mode for the column which has less null values than 20%\n",
        "#df_1[df_1['Percentage']<20].sort_values(by='Percentage').reset_index(drop=True)"
      ],
      "execution_count": null,
      "outputs": []
    },
    {
      "cell_type": "code",
      "metadata": {
        "id": "aAwGRWCuNqw0",
        "colab_type": "code",
        "colab": {}
      },
      "source": [
        ""
      ],
      "execution_count": null,
      "outputs": []
    },
    {
      "cell_type": "code",
      "metadata": {
        "id": "IVY870vmg4nI",
        "colab_type": "code",
        "colab": {}
      },
      "source": [
        "###imputing the missing values\n",
        "df_com['next_paymnt_d']=df_com.groupby(\"region\")[\"next_pymnt_d\"].transform(lambda x: x.fillna(x.mode))\n",
        "df_com['last_pymnt_d']=df_com.groupby(\"region\")[\"last_pymnt_d\"].transform(lambda x: x.fillna(x.mode))\n",
        "df_com[\"last_credit_pull_d\"] = df_com.groupby(\"region\")[\"last_credit_pull_d\"].transform(lambda x: x.fillna(x.mode))\n",
        "df_com[\"earliest_cr_line\"] = df_com.groupby(\"region\")[\"earliest_cr_line\"].transform(lambda x: x.fillna(x.mode))\n",
        "# # Get the mode on the number of accounts in which the client is delinquent\n",
        "df_com[\"pub_rec\"] = df_com.groupby(\"region\")[\"pub_rec\"].transform(lambda x: x.fillna(x.median()))\n",
        "\n",
        "# # Get the mean of the annual income depending in the region the client is located.\n",
        "df_com[\"annual_income\"] = df_com.groupby(\"region\")[\"annual_income\"].transform(lambda x: x.fillna(x.mean()))\n",
        "\n",
        "# Get the mode of the  total number of credit lines the borrower has \n",
        "df_com[\"total_acc\"] = df_com.groupby(\"region\")[\"total_acc\"].transform(lambda x: x.fillna(x.median()))\n",
        "\n",
        "# Mode of credit delinquencies in the past two years.\n",
        "df_com[\"delinq_2yrs\"] = df_com.groupby(\"region\")[\"delinq_2yrs\"].transform(lambda x: x.fillna(x.mean()))\n"
      ],
      "execution_count": null,
      "outputs": []
    },
    {
      "cell_type": "code",
      "metadata": {
        "id": "eb6l_wb5YLt8",
        "colab_type": "code",
        "colab": {}
      },
      "source": [
        "##As of right now we are filling the 0 for na values to check the results. We will be checking in detail about them and changing them in detail.. Stay tuned.\n",
        "\n",
        "for col in ('dti_joint', 'annual_inc_joint', 'il_util', 'mths_since_rcnt_il', 'open_acc_6m', 'open_il_12m',\n",
        "           'open_il_24m', 'inq_last_12m', 'open_rv_12m', 'open_rv_24m', 'max_bal_bc', 'all_util', 'inq_fi', 'total_cu_tl',\n",
        "           'mths_since_last_record', 'mths_since_last_major_derog', 'mths_since_last_delinq', 'total_bal_il', 'tot_coll_amt',\n",
        "           'tot_cur_bal', 'total_rev_hi_lim', 'revol_util', 'collections_12_mths_ex_med', 'open_acc', 'inq_last_6mths',\n",
        "           'verification_status_joint', 'acc_now_delinq'):\n",
        "    df_com[col] = df_com[col].fillna(0)"
      ],
      "execution_count": null,
      "outputs": []
    },
    {
      "cell_type": "code",
      "metadata": {
        "id": "Pc3up4U5q-SO",
        "colab_type": "code",
        "colab": {
          "base_uri": "https://localhost:8080/",
          "height": 391
        },
        "outputId": "efefdbf8-78d0-44bd-d1bd-993a8f8933f8"
      },
      "source": [
        "df_1= pd.DataFrame(df_com.isnull().mean()*100,columns=['Percentage'])\n",
        "df_1= df_1.reset_index()\n",
        "df_1=df_1.rename({'index':'Column_Name'},axis=1)\n",
        "df_1= df_1[df_1['Percentage']>0]\n",
        "\n",
        "\n",
        "### Let impute by either of these mean,median or mode for the column which has less null values than 20%\n",
        "df_1[df_1['Percentage']<=100].sort_values(by='Percentage').reset_index(drop=True)"
      ],
      "execution_count": null,
      "outputs": [
        {
          "output_type": "execute_result",
          "data": {
            "text/html": [
              "<div>\n",
              "<style scoped>\n",
              "    .dataframe tbody tr th:only-of-type {\n",
              "        vertical-align: middle;\n",
              "    }\n",
              "\n",
              "    .dataframe tbody tr th {\n",
              "        vertical-align: top;\n",
              "    }\n",
              "\n",
              "    .dataframe thead th {\n",
              "        text-align: right;\n",
              "    }\n",
              "</style>\n",
              "<table border=\"1\" class=\"dataframe\">\n",
              "  <thead>\n",
              "    <tr style=\"text-align: right;\">\n",
              "      <th></th>\n",
              "      <th>Column_Name</th>\n",
              "      <th>Percentage</th>\n",
              "    </tr>\n",
              "  </thead>\n",
              "  <tbody>\n",
              "    <tr>\n",
              "      <th>0</th>\n",
              "      <td>delinq_amnt</td>\n",
              "      <td>0.001548</td>\n",
              "    </tr>\n",
              "    <tr>\n",
              "      <th>1</th>\n",
              "      <td>tax_liens</td>\n",
              "      <td>0.005308</td>\n",
              "    </tr>\n",
              "    <tr>\n",
              "      <th>2</th>\n",
              "      <td>chargeoff_within_12_mths</td>\n",
              "      <td>0.007078</td>\n",
              "    </tr>\n",
              "    <tr>\n",
              "      <th>3</th>\n",
              "      <td>pub_rec_bankruptcies</td>\n",
              "      <td>0.060602</td>\n",
              "    </tr>\n",
              "    <tr>\n",
              "      <th>4</th>\n",
              "      <td>dti</td>\n",
              "      <td>0.080286</td>\n",
              "    </tr>\n",
              "    <tr>\n",
              "      <th>...</th>\n",
              "      <td>...</td>\n",
              "      <td>...</td>\n",
              "    </tr>\n",
              "    <tr>\n",
              "      <th>68</th>\n",
              "      <td>hardship_status</td>\n",
              "      <td>99.524920</td>\n",
              "    </tr>\n",
              "    <tr>\n",
              "      <th>69</th>\n",
              "      <td>hardship_type</td>\n",
              "      <td>99.524920</td>\n",
              "    </tr>\n",
              "    <tr>\n",
              "      <th>70</th>\n",
              "      <td>hardship_dpd</td>\n",
              "      <td>99.524920</td>\n",
              "    </tr>\n",
              "    <tr>\n",
              "      <th>71</th>\n",
              "      <td>hardship_reason</td>\n",
              "      <td>99.524920</td>\n",
              "    </tr>\n",
              "    <tr>\n",
              "      <th>72</th>\n",
              "      <td>orig_projected_additional_accrued_interest</td>\n",
              "      <td>99.629313</td>\n",
              "    </tr>\n",
              "  </tbody>\n",
              "</table>\n",
              "<p>73 rows × 2 columns</p>\n",
              "</div>"
            ],
            "text/plain": [
              "                                   Column_Name  Percentage\n",
              "0                                  delinq_amnt    0.001548\n",
              "1                                    tax_liens    0.005308\n",
              "2                     chargeoff_within_12_mths    0.007078\n",
              "3                         pub_rec_bankruptcies    0.060602\n",
              "4                                          dti    0.080286\n",
              "..                                         ...         ...\n",
              "68                             hardship_status   99.524920\n",
              "69                               hardship_type   99.524920\n",
              "70                                hardship_dpd   99.524920\n",
              "71                             hardship_reason   99.524920\n",
              "72  orig_projected_additional_accrued_interest   99.629313\n",
              "\n",
              "[73 rows x 2 columns]"
            ]
          },
          "metadata": {
            "tags": []
          },
          "execution_count": 212
        }
      ]
    },
    {
      "cell_type": "code",
      "metadata": {
        "id": "11IcYwjbs3fO",
        "colab_type": "code",
        "colab": {}
      },
      "source": [
        "#df_com.drop(['id','member_id','emp_title','title','zip_code','url'],axis=1,inplace=True)"
      ],
      "execution_count": null,
      "outputs": []
    },
    {
      "cell_type": "code",
      "metadata": {
        "id": "aIIDASwXtQzG",
        "colab_type": "code",
        "colab": {}
      },
      "source": [
        "df_com.drop(['issue_d', 'region', 'year', 'emp_length', 'loan_condition',\n",
        "                 'earliest_cr_line', 'last_pymnt_d', 'next_pymnt_d', 'last_credit_pull_d', \n",
        "                 'verification_status_joint', 'emp_length_int', 'total_rec_prncp', 'funded_amount', 'investor_funds', \n",
        "                 'sub_grade', 'loan_status', \n",
        "                 'initial_list_status', 'out_prncp', 'out_prncp_inv', 'total_pymnt',\n",
        "               'total_pymnt_inv', 'total_rec_int', 'total_rec_late_fee', 'recoveries',\n",
        "               'collection_recovery_fee', 'last_pymnt_amnt',\n",
        "               'collections_12_mths_ex_med', 'mths_since_last_major_derog',\n",
        "               'policy_code', 'application_type', 'annual_inc_joint', 'dti_joint',\n",
        "               'acc_now_delinq', 'tot_coll_amt', 'tot_cur_bal', 'open_acc_6m',\n",
        "                'open_il_12m', 'open_il_24m', 'mths_since_rcnt_il',\n",
        "               'total_bal_il', 'il_util', 'open_rv_12m', 'open_rv_24m', 'max_bal_bc',\n",
        "               'all_util', 'total_rev_hi_lim', 'inq_fi', 'total_cu_tl', 'inq_last_12m'], axis=1, inplace=True)"
      ],
      "execution_count": null,
      "outputs": []
    },
    {
      "cell_type": "code",
      "metadata": {
        "id": "DCHKG7HdtV-5",
        "colab_type": "code",
        "colab": {
          "base_uri": "https://localhost:8080/",
          "height": 33
        },
        "outputId": "ee9433d7-f7d2-413b-81e3-299af0f3bc0b"
      },
      "source": [
        "len(df_com.columns)"
      ],
      "execution_count": null,
      "outputs": [
        {
          "output_type": "execute_result",
          "data": {
            "text/plain": [
              "95"
            ]
          },
          "metadata": {
            "tags": []
          },
          "execution_count": 214
        }
      ]
    },
    {
      "cell_type": "code",
      "metadata": {
        "id": "9slWVKkEta3U",
        "colab_type": "code",
        "colab": {}
      },
      "source": [
        "df_1= pd.DataFrame(df_com.isnull().mean()*100,columns=['Percentage'])\n",
        "df_1= df_1.reset_index()\n",
        "df_1=df_1.rename({'index':'Column_Name'},axis=1)\n",
        "df_1= df_1[df_1['Percentage']>0]\n",
        "\n",
        "\n",
        "### Let impute by either of these mean,median or mode for the column which has less null values than 20%\n",
        "df1=df_1[df_1['Percentage']>50].sort_values(by='Percentage').reset_index(drop=True)"
      ],
      "execution_count": null,
      "outputs": []
    },
    {
      "cell_type": "code",
      "metadata": {
        "id": "zbJWzDomtfJN",
        "colab_type": "code",
        "colab": {
          "base_uri": "https://localhost:8080/",
          "height": 277
        },
        "outputId": "7ee636c2-3004-434a-f960-28a77db450b3"
      },
      "source": [
        "df1['Column_Name'].values"
      ],
      "execution_count": null,
      "outputs": [
        {
          "output_type": "execute_result",
          "data": {
            "text/plain": [
              "array(['mths_since_recent_revol_delinq', 'mths_since_recent_bc_dlq',\n",
              "       'sec_app_collections_12_mths_ex_med',\n",
              "       'sec_app_chargeoff_within_12_mths', 'sec_app_num_rev_accts',\n",
              "       'sec_app_open_acc', 'sec_app_open_act_il',\n",
              "       'sec_app_inq_last_6mths', 'sec_app_earliest_cr_line',\n",
              "       'revol_bal_joint', 'sec_app_mort_acc', 'sec_app_revol_util',\n",
              "       'sec_app_mths_since_last_major_derog', 'settlement_status',\n",
              "       'settlement_amount', 'settlement_date',\n",
              "       'debt_settlement_flag_date', 'settlement_term',\n",
              "       'settlement_percentage', 'hardship_start_date',\n",
              "       'hardship_end_date', 'payment_plan_start_date', 'hardship_length',\n",
              "       'hardship_dpd', 'hardship_loan_status',\n",
              "       'hardship_payoff_balance_amount', 'hardship_last_payment_amount',\n",
              "       'hardship_status', 'hardship_reason', 'hardship_type',\n",
              "       'hardship_amount', 'deferral_term',\n",
              "       'orig_projected_additional_accrued_interest'], dtype=object)"
            ]
          },
          "metadata": {
            "tags": []
          },
          "execution_count": 216
        }
      ]
    },
    {
      "cell_type": "code",
      "metadata": {
        "id": "v9GG_5MCtj8b",
        "colab_type": "code",
        "colab": {}
      },
      "source": [
        "#def null_values(dff):\n",
        "#        mis_val = dff.isnull().sum()\n",
        "#        mis_val_percent = 100 * dff.isnull().sum() / len(dff)\n",
        "#        mis_val_table = pd.concat([mis_val, mis_val_percent], axis=1)\n",
        "#        mis_val_table_ren_columns = mis_val_table.rename(\n",
        "#        columns = {0 : 'Missing Values', 1 : '% of Total Values'})\n",
        "#        mis_val_table_ren_columns = mis_val_table_ren_columns[\n",
        "#            mis_val_table_ren_columns.iloc[:,1] != 0].sort_values(\n",
        "#        '% of Total Values', ascending=False).round(1)\n",
        "#        print (\"Dataframe has \" + str(df.shape[1]) + \" columns.\\n\"      \n",
        "#            \"There are \" + str(mis_val_table_ren_columns.shape[0]) +\n",
        "#              \" columns that have missing values.\")\n",
        "#        return mis_val_table_ren_columns"
      ],
      "execution_count": null,
      "outputs": []
    },
    {
      "cell_type": "code",
      "metadata": {
        "id": "OY3AHy-Gt6fq",
        "colab_type": "code",
        "colab": {}
      },
      "source": [
        "#miss_values = null_values(dff).reset_index()\n",
        "#miss_values=miss_values.rename({'index':'Column_Name'},axis=1)\n"
      ],
      "execution_count": null,
      "outputs": []
    },
    {
      "cell_type": "code",
      "metadata": {
        "id": "TxpyBSH0t8w_",
        "colab_type": "code",
        "colab": {}
      },
      "source": [
        "#miss_values[miss_values['% of Total Values']<50]['Column_Name'].values"
      ],
      "execution_count": null,
      "outputs": []
    },
    {
      "cell_type": "code",
      "metadata": {
        "id": "-3EGUWJ4unAc",
        "colab_type": "code",
        "colab": {}
      },
      "source": [
        "#col=['il_util', 'mths_since_rcnt_il', 'mo_sin_old_il_acct', 'bc_util',\n",
        "#       'percent_bc_gt_75', 'bc_open_to_buy', 'mths_since_recent_bc',\n",
        "#       'pct_tl_nvr_dlq', 'avg_cur_bal', 'total_il_high_credit_limit',\n",
        "#       'tot_hi_cred_lim', 'num_op_rev_tl', 'num_tl_op_past_12m',\n",
        "#       'num_bc_tl', 'tot_coll_amt', 'tot_cur_bal', 'total_rev_hi_lim',\n",
        "#       'num_tl_90g_dpd_24m', 'mo_sin_rcnt_rev_tl_op', 'mo_sin_rcnt_tl',\n",
        "#       'num_accts_ever_120_pd', 'num_actv_bc_tl', 'num_actv_rev_tl',\n",
        "#       'mo_sin_old_rev_tl_op', 'num_il_tl', 'num_rev_accts',\n",
        "#       'num_rev_tl_bal_gt_0', 'num_tl_30dpd', 'num_bc_sats', 'num_sats',\n",
        "#       'mort_acc', 'total_bc_limit', 'total_bal_ex_mort',\n",
        "#       'acc_open_past_24mths', 'last_pymnt_d', 'revol_util', 'dti',\n",
        "#       'pub_rec_bankruptcies', 'collections_12_mths_ex_med',\n",
        "#       'chargeoff_within_12_mths', 'tax_liens', 'last_credit_pull_d',\n",
        "#       'acc_now_delinq', 'total_acc', 'pub_rec', 'open_acc',\n",
        "#       'inq_last_6mths', 'earliest_cr_line', 'delinq_2yrs', 'delinq_amnt',\n",
        "#       'annual_inc']\n",
        "\n"
      ],
      "execution_count": null,
      "outputs": []
    },
    {
      "cell_type": "code",
      "metadata": {
        "id": "KTfv4c53voG2",
        "colab_type": "code",
        "colab": {}
      },
      "source": [
        "for i in df1['Column_Name'].values:\n",
        "\n",
        "  df_com.drop([i],axis=1,inplace=True)"
      ],
      "execution_count": null,
      "outputs": []
    },
    {
      "cell_type": "code",
      "metadata": {
        "id": "2JaXHmxZ4nTB",
        "colab_type": "code",
        "colab": {}
      },
      "source": [
        "df_com.drop('next_paymnt_d',axis=1,inplace=True)"
      ],
      "execution_count": null,
      "outputs": []
    },
    {
      "cell_type": "code",
      "metadata": {
        "id": "6mHrtEGn60hA",
        "colab_type": "code",
        "colab": {
          "base_uri": "https://localhost:8080/",
          "height": 33
        },
        "outputId": "814ab08c-8b17-4492-d609-b7a8e2b9908a"
      },
      "source": [
        "df_com.shape"
      ],
      "execution_count": null,
      "outputs": [
        {
          "output_type": "execute_result",
          "data": {
            "text/plain": [
              "(452134, 61)"
            ]
          },
          "metadata": {
            "tags": []
          },
          "execution_count": 219
        }
      ]
    },
    {
      "cell_type": "code",
      "metadata": {
        "id": "mNgIs1D3YGRK",
        "colab_type": "code",
        "colab": {
          "base_uri": "https://localhost:8080/",
          "height": 212
        },
        "outputId": "bb0ac912-1248-41a8-f062-ce34d1810c54"
      },
      "source": [
        "df_com.isnull().any()"
      ],
      "execution_count": null,
      "outputs": [
        {
          "output_type": "execute_result",
          "data": {
            "text/plain": [
              "loan_amount                   False\n",
              "term                          False\n",
              "interest_rate                 False\n",
              "installment                   False\n",
              "grade                         False\n",
              "                              ...  \n",
              "total_il_high_credit_limit     True\n",
              "hardship_flag                 False\n",
              "disbursement_method           False\n",
              "debt_settlement_flag          False\n",
              "loan_condition_int            False\n",
              "Length: 61, dtype: bool"
            ]
          },
          "metadata": {
            "tags": []
          },
          "execution_count": 220
        }
      ]
    },
    {
      "cell_type": "code",
      "metadata": {
        "id": "wZ3xSS-g3wxx",
        "colab_type": "code",
        "colab": {
          "base_uri": "https://localhost:8080/",
          "height": 33
        },
        "outputId": "82555a16-1af9-4891-cf55-faa886d0edbf"
      },
      "source": [
        "df_com['addr_state'].isnull().sum()\n",
        "#print(100 * dff.isnull().sum() / len(dff))"
      ],
      "execution_count": null,
      "outputs": [
        {
          "output_type": "execute_result",
          "data": {
            "text/plain": [
              "0"
            ]
          },
          "metadata": {
            "tags": []
          },
          "execution_count": 221
        }
      ]
    },
    {
      "cell_type": "code",
      "metadata": {
        "id": "CGwjozdc5Tz4",
        "colab_type": "code",
        "colab": {
          "base_uri": "https://localhost:8080/",
          "height": 635
        },
        "outputId": "3a04c98d-d80a-443c-be66-27704b60fdb0"
      },
      "source": [
        "df_1= pd.DataFrame(df_com.isnull().mean()*100,columns=['Percentage'])\n",
        "df_1= df_1.reset_index()\n",
        "df_1=df_1.rename({'index':'Column_Name'},axis=1)\n",
        "df_1= df_1[df_1['Percentage']>0]\n",
        "\n",
        "\n",
        "### Let impute by either of these mean,median or mode for the column which has less null values than 20%\n",
        "df1=df_1.sort_values(by='Percentage').reset_index(drop=True)\n",
        "print(df1)"
      ],
      "execution_count": null,
      "outputs": [
        {
          "output_type": "stream",
          "text": [
            "                   Column_Name  Percentage\n",
            "0                  delinq_amnt    0.001548\n",
            "1                    tax_liens    0.005308\n",
            "2     chargeoff_within_12_mths    0.007078\n",
            "3         pub_rec_bankruptcies    0.060602\n",
            "4                          dti    0.080286\n",
            "5            total_bal_ex_mort    2.244467\n",
            "6         acc_open_past_24mths    2.244467\n",
            "7               total_bc_limit    2.244467\n",
            "8                     mort_acc    2.244467\n",
            "9                     num_sats    2.624222\n",
            "10                 num_bc_sats    2.624222\n",
            "11              mo_sin_rcnt_tl    3.154817\n",
            "12             tot_hi_cred_lim    3.154817\n",
            "13          num_tl_op_past_12m    3.154817\n",
            "14          num_tl_90g_dpd_24m    3.154817\n",
            "15                num_tl_30dpd    3.154817\n",
            "16       mo_sin_rcnt_rev_tl_op    3.154817\n",
            "17               num_rev_accts    3.154817\n",
            "18               num_op_rev_tl    3.154817\n",
            "19                   num_il_tl    3.154817\n",
            "20         num_rev_tl_bal_gt_0    3.154817\n",
            "21             num_actv_rev_tl    3.154817\n",
            "22              num_actv_bc_tl    3.154817\n",
            "23       num_accts_ever_120_pd    3.154817\n",
            "24        mo_sin_old_rev_tl_op    3.154817\n",
            "25                   num_bc_tl    3.154817\n",
            "26  total_il_high_credit_limit    3.154817\n",
            "27                 avg_cur_bal    3.158356\n",
            "28              pct_tl_nvr_dlq    3.161894\n",
            "29        mths_since_recent_bc    3.287963\n",
            "30              bc_open_to_buy    3.348786\n",
            "31            percent_bc_gt_75    3.367143\n",
            "32                     bc_util    3.401204\n",
            "33          mo_sin_old_il_acct    6.174939\n",
            "34            num_tl_120dpd_2m    6.886454\n",
            "35       mths_since_recent_inq   13.149641\n",
            "36                 open_act_il   38.395033\n"
          ],
          "name": "stdout"
        }
      ]
    },
    {
      "cell_type": "code",
      "metadata": {
        "id": "LAaNaOD45l3f",
        "colab_type": "code",
        "colab": {}
      },
      "source": [
        "df_1=df_com['dti'].fillna(0)"
      ],
      "execution_count": null,
      "outputs": []
    },
    {
      "cell_type": "code",
      "metadata": {
        "id": "55ql94Ck8dqB",
        "colab_type": "code",
        "colab": {}
      },
      "source": [
        "df_com['open_act_il']=df_com.open_act_il.fillna(df_com.open_act_il.median())"
      ],
      "execution_count": null,
      "outputs": []
    },
    {
      "cell_type": "code",
      "metadata": {
        "id": "3BTMVrtEAd4r",
        "colab_type": "code",
        "colab": {
          "base_uri": "https://localhost:8080/",
          "height": 618
        },
        "outputId": "8c7a346a-7e48-44d8-e3e9-2f11f6618c60"
      },
      "source": [
        "df_1= pd.DataFrame(df_com.isnull().mean()*100,columns=['Percentage'])\n",
        "df_1= df_1.reset_index()\n",
        "df_1=df_1.rename({'index':'Column_Name'},axis=1)\n",
        "df_1= df_1[df_1['Percentage']>0]\n",
        "\n",
        "\n",
        "### Let impute by either of these mean,median or mode for the column which has less null values than 20%\n",
        "df1=df_1.sort_values(by='Percentage').reset_index(drop=True)\n",
        "print(df1)"
      ],
      "execution_count": null,
      "outputs": [
        {
          "output_type": "stream",
          "text": [
            "                   Column_Name  Percentage\n",
            "0                  delinq_amnt    0.001548\n",
            "1                    tax_liens    0.005308\n",
            "2     chargeoff_within_12_mths    0.007078\n",
            "3         pub_rec_bankruptcies    0.060602\n",
            "4                          dti    0.080286\n",
            "5         acc_open_past_24mths    2.244467\n",
            "6            total_bal_ex_mort    2.244467\n",
            "7               total_bc_limit    2.244467\n",
            "8                     mort_acc    2.244467\n",
            "9                     num_sats    2.624222\n",
            "10                 num_bc_sats    2.624222\n",
            "11       mo_sin_rcnt_rev_tl_op    3.154817\n",
            "12             tot_hi_cred_lim    3.154817\n",
            "13          num_tl_op_past_12m    3.154817\n",
            "14          num_tl_90g_dpd_24m    3.154817\n",
            "15                num_tl_30dpd    3.154817\n",
            "16              mo_sin_rcnt_tl    3.154817\n",
            "17         num_rev_tl_bal_gt_0    3.154817\n",
            "18               num_rev_accts    3.154817\n",
            "19               num_op_rev_tl    3.154817\n",
            "20  total_il_high_credit_limit    3.154817\n",
            "21                   num_bc_tl    3.154817\n",
            "22        mo_sin_old_rev_tl_op    3.154817\n",
            "23             num_actv_rev_tl    3.154817\n",
            "24              num_actv_bc_tl    3.154817\n",
            "25       num_accts_ever_120_pd    3.154817\n",
            "26                   num_il_tl    3.154817\n",
            "27                 avg_cur_bal    3.158356\n",
            "28              pct_tl_nvr_dlq    3.161894\n",
            "29        mths_since_recent_bc    3.287963\n",
            "30              bc_open_to_buy    3.348786\n",
            "31            percent_bc_gt_75    3.367143\n",
            "32                     bc_util    3.401204\n",
            "33          mo_sin_old_il_acct    6.174939\n",
            "34            num_tl_120dpd_2m    6.886454\n",
            "35       mths_since_recent_inq   13.149641\n"
          ],
          "name": "stdout"
        }
      ]
    },
    {
      "cell_type": "code",
      "metadata": {
        "id": "nPYb25B6BfgH",
        "colab_type": "code",
        "colab": {}
      },
      "source": [
        "##We have left with very less % of null values. It's better to drop them.\n",
        "df_com=df_com.dropna()"
      ],
      "execution_count": null,
      "outputs": []
    },
    {
      "cell_type": "code",
      "metadata": {
        "id": "6dxpY0ExB-We",
        "colab_type": "code",
        "colab": {
          "base_uri": "https://localhost:8080/",
          "height": 33
        },
        "outputId": "b6a6c593-bbc5-42fe-fa2e-199481ac19cd"
      },
      "source": [
        "df_com.isnull().sum().max() # Maximum number of nulls.\n"
      ],
      "execution_count": null,
      "outputs": [
        {
          "output_type": "execute_result",
          "data": {
            "text/plain": [
              "0"
            ]
          },
          "metadata": {
            "tags": []
          },
          "execution_count": 227
        }
      ]
    },
    {
      "cell_type": "code",
      "metadata": {
        "id": "Q1OC2IHiCErG",
        "colab_type": "code",
        "colab": {
          "base_uri": "https://localhost:8080/",
          "height": 310
        },
        "outputId": "27667cf8-86b2-4898-ce24-9e9945f5456e"
      },
      "source": [
        "df_com.columns\n"
      ],
      "execution_count": null,
      "outputs": [
        {
          "output_type": "execute_result",
          "data": {
            "text/plain": [
              "Index(['loan_amount', 'term', 'interest_rate', 'installment', 'grade',\n",
              "       'home_ownership', 'annual_income', 'verification_status', 'pymnt_plan',\n",
              "       'purpose', 'addr_state', 'dti', 'delinq_2yrs', 'inq_last_6mths',\n",
              "       'mths_since_last_delinq', 'mths_since_last_record', 'open_acc',\n",
              "       'pub_rec', 'revol_bal', 'revol_util', 'total_acc', 'open_act_il',\n",
              "       'acc_open_past_24mths', 'avg_cur_bal', 'bc_open_to_buy', 'bc_util',\n",
              "       'chargeoff_within_12_mths', 'delinq_amnt', 'mo_sin_old_il_acct',\n",
              "       'mo_sin_old_rev_tl_op', 'mo_sin_rcnt_rev_tl_op', 'mo_sin_rcnt_tl',\n",
              "       'mort_acc', 'mths_since_recent_bc', 'mths_since_recent_inq',\n",
              "       'num_accts_ever_120_pd', 'num_actv_bc_tl', 'num_actv_rev_tl',\n",
              "       'num_bc_sats', 'num_bc_tl', 'num_il_tl', 'num_op_rev_tl',\n",
              "       'num_rev_accts', 'num_rev_tl_bal_gt_0', 'num_sats', 'num_tl_120dpd_2m',\n",
              "       'num_tl_30dpd', 'num_tl_90g_dpd_24m', 'num_tl_op_past_12m',\n",
              "       'pct_tl_nvr_dlq', 'percent_bc_gt_75', 'pub_rec_bankruptcies',\n",
              "       'tax_liens', 'tot_hi_cred_lim', 'total_bal_ex_mort', 'total_bc_limit',\n",
              "       'total_il_high_credit_limit', 'hardship_flag', 'disbursement_method',\n",
              "       'debt_settlement_flag', 'loan_condition_int'],\n",
              "      dtype='object')"
            ]
          },
          "metadata": {
            "tags": []
          },
          "execution_count": 228
        }
      ]
    },
    {
      "cell_type": "code",
      "metadata": {
        "id": "dE9Pe3NBDa4_",
        "colab_type": "code",
        "colab": {
          "base_uri": "https://localhost:8080/",
          "height": 66
        },
        "outputId": "37610876-e4dd-4758-eba4-54d37668cafd"
      },
      "source": [
        "####We can see from the above that we have an imbalance dataset, lets see what is the imbalance ratio we have here as we took randomly 20% of the data. But In the final run, i will be talking all the data \n",
        "\n",
        "df_com['loan_condition_int'].value_counts()/len(df_com['loan_condition_int'])*100"
      ],
      "execution_count": null,
      "outputs": [
        {
          "output_type": "execute_result",
          "data": {
            "text/plain": [
              "1    98.472159\n",
              "0     1.527841\n",
              "Name: loan_condition_int, dtype: float64"
            ]
          },
          "metadata": {
            "tags": []
          },
          "execution_count": 229
        }
      ]
    },
    {
      "cell_type": "code",
      "metadata": {
        "id": "h-SrmC7pZC37",
        "colab_type": "code",
        "colab": {}
      },
      "source": [
        "df2=df_com.copy()\n",
        "df2_t= df2['loan_condition_int'].values\n",
        "df2= df2.drop('loan_condition_int',axis=1)\n",
        "df2=df2.values"
      ],
      "execution_count": null,
      "outputs": []
    },
    {
      "cell_type": "code",
      "metadata": {
        "id": "MCy-G-WlMnZp",
        "colab_type": "code",
        "colab": {}
      },
      "source": [
        "from sklearn.model_selection import StratifiedShuffleSplit\n",
        "\n",
        "stratified=StratifiedShuffleSplit(n_splits=1, test_size=0.2, random_state=0)\n",
        "\n",
        "for train_set, test_set in stratified.split(df2, df2_t):\n",
        "    Xtrain, Xtest = df2[train_set],df2[test_set]\n",
        "    ytrain, ytest = df2_t[train_set],df2_t[test_set]\n",
        "    \n",
        "#print('Train set ratio \\n', stratified_train[\"loan_condition_int\"].value_counts()/len(df))\n",
        "#print('Test set ratio \\n', stratified_test[\"loan_condition_int\"].value_counts()/len(df))"
      ],
      "execution_count": null,
      "outputs": []
    },
    {
      "cell_type": "code",
      "metadata": {
        "id": "J-PTZJxuTAyI",
        "colab_type": "code",
        "colab": {
          "base_uri": "https://localhost:8080/",
          "height": 82
        },
        "outputId": "e0b6f359-29dc-4ac1-860c-2497d21704d1"
      },
      "source": [
        "print(Xtrain.shape)\n",
        "print(Xtest.shape)\n",
        "print(ytrain.shape)\n",
        "print(ytest.shape)"
      ],
      "execution_count": null,
      "outputs": [
        {
          "output_type": "stream",
          "text": [
            "(286574, 60)\n",
            "(71644, 60)\n",
            "(286574,)\n",
            "(71644,)\n"
          ],
          "name": "stdout"
        }
      ]
    },
    {
      "cell_type": "code",
      "metadata": {
        "id": "K9LMijzpWkB_",
        "colab_type": "code",
        "colab": {}
      },
      "source": [
        ""
      ],
      "execution_count": null,
      "outputs": []
    },
    {
      "cell_type": "code",
      "metadata": {
        "id": "kCuiIInHWw__",
        "colab_type": "code",
        "colab": {}
      },
      "source": [
        ""
      ],
      "execution_count": null,
      "outputs": []
    },
    {
      "cell_type": "code",
      "metadata": {
        "id": "9X1b-bkaW4ih",
        "colab_type": "code",
        "colab": {}
      },
      "source": [
        ""
      ],
      "execution_count": null,
      "outputs": []
    },
    {
      "cell_type": "code",
      "metadata": {
        "id": "71suBK6YXTVR",
        "colab_type": "code",
        "colab": {}
      },
      "source": [
        ""
      ],
      "execution_count": null,
      "outputs": []
    },
    {
      "cell_type": "code",
      "metadata": {
        "id": "rBfpAxOkXWg_",
        "colab_type": "code",
        "colab": {}
      },
      "source": [
        ""
      ],
      "execution_count": null,
      "outputs": []
    },
    {
      "cell_type": "code",
      "metadata": {
        "id": "YjSN976vYaaL",
        "colab_type": "code",
        "colab": {}
      },
      "source": [
        "Xtrain=pd.DataFrame(Xtrain,columns=['loan_amount', 'term', 'interest_rate', 'installment', 'grade',\n",
        "       'home_ownership', 'annual_income', 'verification_status', 'pymnt_plan',\n",
        "       'purpose', 'addr_state', 'dti', 'delinq_2yrs', 'inq_last_6mths',\n",
        "       'mths_since_last_delinq', 'mths_since_last_record', 'open_acc',\n",
        "       'pub_rec', 'revol_bal', 'revol_util', 'total_acc', 'open_act_il',\n",
        "       'acc_open_past_24mths', 'avg_cur_bal', 'bc_open_to_buy', 'bc_util',\n",
        "       'chargeoff_within_12_mths', 'delinq_amnt', 'mo_sin_old_il_acct',\n",
        "       'mo_sin_old_rev_tl_op', 'mo_sin_rcnt_rev_tl_op', 'mo_sin_rcnt_tl',\n",
        "       'mort_acc', 'mths_since_recent_bc', 'mths_since_recent_inq',\n",
        "       'num_accts_ever_120_pd', 'num_actv_bc_tl', 'num_actv_rev_tl',\n",
        "       'num_bc_sats', 'num_bc_tl', 'num_il_tl', 'num_op_rev_tl',\n",
        "       'num_rev_accts', 'num_rev_tl_bal_gt_0', 'num_sats', 'num_tl_120dpd_2m',\n",
        "       'num_tl_30dpd', 'num_tl_90g_dpd_24m', 'num_tl_op_past_12m',\n",
        "       'pct_tl_nvr_dlq', 'percent_bc_gt_75', 'pub_rec_bankruptcies',\n",
        "       'tax_liens', 'tot_hi_cred_lim', 'total_bal_ex_mort', 'total_bc_limit',\n",
        "       'total_il_high_credit_limit', 'hardship_flag', 'disbursement_method',\n",
        "       'debt_settlement_flag'])"
      ],
      "execution_count": null,
      "outputs": []
    },
    {
      "cell_type": "code",
      "metadata": {
        "id": "x842KxWeYgnq",
        "colab_type": "code",
        "colab": {
          "base_uri": "https://localhost:8080/",
          "height": 50
        },
        "outputId": "01f2573e-b2c7-4a02-f5af-a0375427c822"
      },
      "source": [
        "###checking how well split has happened as out dataset has a problem of imbalance\n",
        "import collections, numpy\n",
        "print('Value counts in ytrain',collections.Counter(ytrain))\n",
        "print('Value counts in ytest',collections.Counter(ytest))\n"
      ],
      "execution_count": null,
      "outputs": [
        {
          "output_type": "stream",
          "text": [
            "Value counts in ytrain Counter({1: 282196, 0: 4378})\n",
            "Value counts in ytest Counter({1: 70549, 0: 1095})\n"
          ],
          "name": "stdout"
        }
      ]
    },
    {
      "cell_type": "code",
      "metadata": {
        "id": "5eVndgf9ZzFr",
        "colab_type": "code",
        "colab": {
          "base_uri": "https://localhost:8080/",
          "height": 33
        },
        "outputId": "0fe6c2f7-c0de-45e5-81d1-39dde298fe4f"
      },
      "source": [
        "import gc\n",
        "gc.collect()"
      ],
      "execution_count": null,
      "outputs": [
        {
          "output_type": "execute_result",
          "data": {
            "text/plain": [
              "0"
            ]
          },
          "metadata": {
            "tags": []
          },
          "execution_count": 236
        }
      ]
    },
    {
      "cell_type": "code",
      "metadata": {
        "id": "68lxv9CLaZGk",
        "colab_type": "code",
        "colab": {}
      },
      "source": [
        ""
      ],
      "execution_count": null,
      "outputs": []
    },
    {
      "cell_type": "code",
      "metadata": {
        "id": "tPgOZMsC8Udh",
        "colab_type": "code",
        "colab": {
          "base_uri": "https://localhost:8080/",
          "height": 292
        },
        "outputId": "828a8abf-8b9e-417e-a374-f531a0198009"
      },
      "source": [
        "Xtrain.head()"
      ],
      "execution_count": null,
      "outputs": [
        {
          "output_type": "execute_result",
          "data": {
            "text/html": [
              "<div>\n",
              "<style scoped>\n",
              "    .dataframe tbody tr th:only-of-type {\n",
              "        vertical-align: middle;\n",
              "    }\n",
              "\n",
              "    .dataframe tbody tr th {\n",
              "        vertical-align: top;\n",
              "    }\n",
              "\n",
              "    .dataframe thead th {\n",
              "        text-align: right;\n",
              "    }\n",
              "</style>\n",
              "<table border=\"1\" class=\"dataframe\">\n",
              "  <thead>\n",
              "    <tr style=\"text-align: right;\">\n",
              "      <th></th>\n",
              "      <th>loan_amount</th>\n",
              "      <th>term</th>\n",
              "      <th>interest_rate</th>\n",
              "      <th>installment</th>\n",
              "      <th>grade</th>\n",
              "      <th>home_ownership</th>\n",
              "      <th>annual_income</th>\n",
              "      <th>verification_status</th>\n",
              "      <th>pymnt_plan</th>\n",
              "      <th>purpose</th>\n",
              "      <th>addr_state</th>\n",
              "      <th>dti</th>\n",
              "      <th>delinq_2yrs</th>\n",
              "      <th>inq_last_6mths</th>\n",
              "      <th>mths_since_last_delinq</th>\n",
              "      <th>mths_since_last_record</th>\n",
              "      <th>open_acc</th>\n",
              "      <th>pub_rec</th>\n",
              "      <th>revol_bal</th>\n",
              "      <th>revol_util</th>\n",
              "      <th>total_acc</th>\n",
              "      <th>open_act_il</th>\n",
              "      <th>acc_open_past_24mths</th>\n",
              "      <th>avg_cur_bal</th>\n",
              "      <th>bc_open_to_buy</th>\n",
              "      <th>bc_util</th>\n",
              "      <th>chargeoff_within_12_mths</th>\n",
              "      <th>delinq_amnt</th>\n",
              "      <th>mo_sin_old_il_acct</th>\n",
              "      <th>mo_sin_old_rev_tl_op</th>\n",
              "      <th>mo_sin_rcnt_rev_tl_op</th>\n",
              "      <th>mo_sin_rcnt_tl</th>\n",
              "      <th>mort_acc</th>\n",
              "      <th>mths_since_recent_bc</th>\n",
              "      <th>mths_since_recent_inq</th>\n",
              "      <th>num_accts_ever_120_pd</th>\n",
              "      <th>num_actv_bc_tl</th>\n",
              "      <th>num_actv_rev_tl</th>\n",
              "      <th>num_bc_sats</th>\n",
              "      <th>num_bc_tl</th>\n",
              "      <th>num_il_tl</th>\n",
              "      <th>num_op_rev_tl</th>\n",
              "      <th>num_rev_accts</th>\n",
              "      <th>num_rev_tl_bal_gt_0</th>\n",
              "      <th>num_sats</th>\n",
              "      <th>num_tl_120dpd_2m</th>\n",
              "      <th>num_tl_30dpd</th>\n",
              "      <th>num_tl_90g_dpd_24m</th>\n",
              "      <th>num_tl_op_past_12m</th>\n",
              "      <th>pct_tl_nvr_dlq</th>\n",
              "      <th>percent_bc_gt_75</th>\n",
              "      <th>pub_rec_bankruptcies</th>\n",
              "      <th>tax_liens</th>\n",
              "      <th>tot_hi_cred_lim</th>\n",
              "      <th>total_bal_ex_mort</th>\n",
              "      <th>total_bc_limit</th>\n",
              "      <th>total_il_high_credit_limit</th>\n",
              "      <th>hardship_flag</th>\n",
              "      <th>disbursement_method</th>\n",
              "      <th>debt_settlement_flag</th>\n",
              "    </tr>\n",
              "  </thead>\n",
              "  <tbody>\n",
              "    <tr>\n",
              "      <th>0</th>\n",
              "      <td>20000</td>\n",
              "      <td>60 months</td>\n",
              "      <td>8.67</td>\n",
              "      <td>411.98</td>\n",
              "      <td>B</td>\n",
              "      <td>MORTGAGE</td>\n",
              "      <td>96000</td>\n",
              "      <td>Source Verified</td>\n",
              "      <td>n</td>\n",
              "      <td>home_improvement</td>\n",
              "      <td>CO</td>\n",
              "      <td>3.88</td>\n",
              "      <td>0</td>\n",
              "      <td>0</td>\n",
              "      <td>0</td>\n",
              "      <td>0</td>\n",
              "      <td>10</td>\n",
              "      <td>0</td>\n",
              "      <td>62051</td>\n",
              "      <td>5.7</td>\n",
              "      <td>23</td>\n",
              "      <td>2</td>\n",
              "      <td>3</td>\n",
              "      <td>54004</td>\n",
              "      <td>17103</td>\n",
              "      <td>9.5</td>\n",
              "      <td>0</td>\n",
              "      <td>0</td>\n",
              "      <td>81</td>\n",
              "      <td>184</td>\n",
              "      <td>3</td>\n",
              "      <td>2</td>\n",
              "      <td>6</td>\n",
              "      <td>135</td>\n",
              "      <td>2</td>\n",
              "      <td>0</td>\n",
              "      <td>1</td>\n",
              "      <td>2</td>\n",
              "      <td>2</td>\n",
              "      <td>4</td>\n",
              "      <td>1</td>\n",
              "      <td>8</td>\n",
              "      <td>16</td>\n",
              "      <td>2</td>\n",
              "      <td>10</td>\n",
              "      <td>0</td>\n",
              "      <td>0</td>\n",
              "      <td>0</td>\n",
              "      <td>2</td>\n",
              "      <td>100</td>\n",
              "      <td>0</td>\n",
              "      <td>0</td>\n",
              "      <td>0</td>\n",
              "      <td>570832</td>\n",
              "      <td>62051</td>\n",
              "      <td>18900</td>\n",
              "      <td>0</td>\n",
              "      <td>N</td>\n",
              "      <td>Cash</td>\n",
              "      <td>N</td>\n",
              "    </tr>\n",
              "    <tr>\n",
              "      <th>1</th>\n",
              "      <td>3600</td>\n",
              "      <td>36 months</td>\n",
              "      <td>10.41</td>\n",
              "      <td>116.86</td>\n",
              "      <td>B</td>\n",
              "      <td>RENT</td>\n",
              "      <td>44000</td>\n",
              "      <td>Not Verified</td>\n",
              "      <td>n</td>\n",
              "      <td>debt_consolidation</td>\n",
              "      <td>CT</td>\n",
              "      <td>22.69</td>\n",
              "      <td>0</td>\n",
              "      <td>1</td>\n",
              "      <td>29</td>\n",
              "      <td>56</td>\n",
              "      <td>11</td>\n",
              "      <td>1</td>\n",
              "      <td>5504</td>\n",
              "      <td>30.2</td>\n",
              "      <td>31</td>\n",
              "      <td>1</td>\n",
              "      <td>2</td>\n",
              "      <td>1062</td>\n",
              "      <td>5960</td>\n",
              "      <td>18.4</td>\n",
              "      <td>0</td>\n",
              "      <td>0</td>\n",
              "      <td>181</td>\n",
              "      <td>151</td>\n",
              "      <td>2</td>\n",
              "      <td>2</td>\n",
              "      <td>0</td>\n",
              "      <td>2</td>\n",
              "      <td>2</td>\n",
              "      <td>1</td>\n",
              "      <td>3</td>\n",
              "      <td>7</td>\n",
              "      <td>5</td>\n",
              "      <td>11</td>\n",
              "      <td>3</td>\n",
              "      <td>10</td>\n",
              "      <td>28</td>\n",
              "      <td>7</td>\n",
              "      <td>10</td>\n",
              "      <td>0</td>\n",
              "      <td>0</td>\n",
              "      <td>0</td>\n",
              "      <td>1</td>\n",
              "      <td>67.7</td>\n",
              "      <td>20</td>\n",
              "      <td>0</td>\n",
              "      <td>1</td>\n",
              "      <td>26600</td>\n",
              "      <td>11677</td>\n",
              "      <td>7300</td>\n",
              "      <td>8400</td>\n",
              "      <td>N</td>\n",
              "      <td>Cash</td>\n",
              "      <td>N</td>\n",
              "    </tr>\n",
              "    <tr>\n",
              "      <th>2</th>\n",
              "      <td>20000</td>\n",
              "      <td>36 months</td>\n",
              "      <td>7.07</td>\n",
              "      <td>618.19</td>\n",
              "      <td>A</td>\n",
              "      <td>RENT</td>\n",
              "      <td>87500</td>\n",
              "      <td>Not Verified</td>\n",
              "      <td>n</td>\n",
              "      <td>debt_consolidation</td>\n",
              "      <td>TX</td>\n",
              "      <td>12.8</td>\n",
              "      <td>0</td>\n",
              "      <td>0</td>\n",
              "      <td>0</td>\n",
              "      <td>0</td>\n",
              "      <td>15</td>\n",
              "      <td>0</td>\n",
              "      <td>24175</td>\n",
              "      <td>25.6</td>\n",
              "      <td>29</td>\n",
              "      <td>3</td>\n",
              "      <td>5</td>\n",
              "      <td>3358</td>\n",
              "      <td>55767</td>\n",
              "      <td>30.1</td>\n",
              "      <td>0</td>\n",
              "      <td>0</td>\n",
              "      <td>87</td>\n",
              "      <td>152</td>\n",
              "      <td>21</td>\n",
              "      <td>10</td>\n",
              "      <td>0</td>\n",
              "      <td>21</td>\n",
              "      <td>15</td>\n",
              "      <td>0</td>\n",
              "      <td>5</td>\n",
              "      <td>6</td>\n",
              "      <td>8</td>\n",
              "      <td>13</td>\n",
              "      <td>7</td>\n",
              "      <td>12</td>\n",
              "      <td>22</td>\n",
              "      <td>6</td>\n",
              "      <td>15</td>\n",
              "      <td>0</td>\n",
              "      <td>0</td>\n",
              "      <td>0</td>\n",
              "      <td>1</td>\n",
              "      <td>100</td>\n",
              "      <td>0</td>\n",
              "      <td>0</td>\n",
              "      <td>0</td>\n",
              "      <td>125176</td>\n",
              "      <td>50363</td>\n",
              "      <td>79800</td>\n",
              "      <td>30576</td>\n",
              "      <td>N</td>\n",
              "      <td>Cash</td>\n",
              "      <td>N</td>\n",
              "    </tr>\n",
              "    <tr>\n",
              "      <th>3</th>\n",
              "      <td>5000</td>\n",
              "      <td>36 months</td>\n",
              "      <td>13.49</td>\n",
              "      <td>169.66</td>\n",
              "      <td>C</td>\n",
              "      <td>RENT</td>\n",
              "      <td>155000</td>\n",
              "      <td>Source Verified</td>\n",
              "      <td>n</td>\n",
              "      <td>debt_consolidation</td>\n",
              "      <td>PA</td>\n",
              "      <td>12.4</td>\n",
              "      <td>0</td>\n",
              "      <td>0</td>\n",
              "      <td>0</td>\n",
              "      <td>0</td>\n",
              "      <td>20</td>\n",
              "      <td>0</td>\n",
              "      <td>34400</td>\n",
              "      <td>82.6</td>\n",
              "      <td>27</td>\n",
              "      <td>10</td>\n",
              "      <td>5</td>\n",
              "      <td>3696</td>\n",
              "      <td>5074</td>\n",
              "      <td>82.4</td>\n",
              "      <td>0</td>\n",
              "      <td>0</td>\n",
              "      <td>124</td>\n",
              "      <td>175</td>\n",
              "      <td>14</td>\n",
              "      <td>14</td>\n",
              "      <td>0</td>\n",
              "      <td>14</td>\n",
              "      <td>14</td>\n",
              "      <td>0</td>\n",
              "      <td>8</td>\n",
              "      <td>10</td>\n",
              "      <td>8</td>\n",
              "      <td>10</td>\n",
              "      <td>15</td>\n",
              "      <td>10</td>\n",
              "      <td>12</td>\n",
              "      <td>10</td>\n",
              "      <td>20</td>\n",
              "      <td>0</td>\n",
              "      <td>0</td>\n",
              "      <td>0</td>\n",
              "      <td>0</td>\n",
              "      <td>100</td>\n",
              "      <td>87.5</td>\n",
              "      <td>0</td>\n",
              "      <td>0</td>\n",
              "      <td>92020</td>\n",
              "      <td>73927</td>\n",
              "      <td>37100</td>\n",
              "      <td>52120</td>\n",
              "      <td>N</td>\n",
              "      <td>Cash</td>\n",
              "      <td>N</td>\n",
              "    </tr>\n",
              "    <tr>\n",
              "      <th>4</th>\n",
              "      <td>22000</td>\n",
              "      <td>60 months</td>\n",
              "      <td>15.05</td>\n",
              "      <td>523.96</td>\n",
              "      <td>C</td>\n",
              "      <td>RENT</td>\n",
              "      <td>67500</td>\n",
              "      <td>Verified</td>\n",
              "      <td>n</td>\n",
              "      <td>credit_card</td>\n",
              "      <td>OR</td>\n",
              "      <td>22.2</td>\n",
              "      <td>0</td>\n",
              "      <td>0</td>\n",
              "      <td>0</td>\n",
              "      <td>77</td>\n",
              "      <td>15</td>\n",
              "      <td>1</td>\n",
              "      <td>22630</td>\n",
              "      <td>51.3</td>\n",
              "      <td>19</td>\n",
              "      <td>1</td>\n",
              "      <td>8</td>\n",
              "      <td>3200</td>\n",
              "      <td>12687</td>\n",
              "      <td>54.9</td>\n",
              "      <td>0</td>\n",
              "      <td>0</td>\n",
              "      <td>42</td>\n",
              "      <td>66</td>\n",
              "      <td>3</td>\n",
              "      <td>3</td>\n",
              "      <td>0</td>\n",
              "      <td>3</td>\n",
              "      <td>1</td>\n",
              "      <td>0</td>\n",
              "      <td>8</td>\n",
              "      <td>13</td>\n",
              "      <td>9</td>\n",
              "      <td>11</td>\n",
              "      <td>2</td>\n",
              "      <td>14</td>\n",
              "      <td>17</td>\n",
              "      <td>13</td>\n",
              "      <td>15</td>\n",
              "      <td>0</td>\n",
              "      <td>0</td>\n",
              "      <td>0</td>\n",
              "      <td>3</td>\n",
              "      <td>100</td>\n",
              "      <td>11.1</td>\n",
              "      <td>1</td>\n",
              "      <td>0</td>\n",
              "      <td>82974</td>\n",
              "      <td>48004</td>\n",
              "      <td>28100</td>\n",
              "      <td>38874</td>\n",
              "      <td>N</td>\n",
              "      <td>Cash</td>\n",
              "      <td>N</td>\n",
              "    </tr>\n",
              "  </tbody>\n",
              "</table>\n",
              "</div>"
            ],
            "text/plain": [
              "  loan_amount        term  ... disbursement_method debt_settlement_flag\n",
              "0       20000   60 months  ...                Cash                    N\n",
              "1        3600   36 months  ...                Cash                    N\n",
              "2       20000   36 months  ...                Cash                    N\n",
              "3        5000   36 months  ...                Cash                    N\n",
              "4       22000   60 months  ...                Cash                    N\n",
              "\n",
              "[5 rows x 60 columns]"
            ]
          },
          "metadata": {
            "tags": []
          },
          "execution_count": 237
        }
      ]
    },
    {
      "cell_type": "code",
      "metadata": {
        "id": "ipR-W8JCDIjo",
        "colab_type": "code",
        "colab": {}
      },
      "source": [
        "###ordinal Encoding"
      ],
      "execution_count": null,
      "outputs": []
    },
    {
      "cell_type": "code",
      "metadata": {
        "id": "ruiA2Rhg_4vH",
        "colab_type": "code",
        "colab": {
          "base_uri": "https://localhost:8080/",
          "height": 66
        },
        "outputId": "09c3c971-f119-4ce7-8cf2-60176c237804"
      },
      "source": [
        "Xtrain['debt_settlement_flag'].value_counts()"
      ],
      "execution_count": null,
      "outputs": [
        {
          "output_type": "execute_result",
          "data": {
            "text/plain": [
              "N    282188\n",
              "Y      4386\n",
              "Name: debt_settlement_flag, dtype: int64"
            ]
          },
          "metadata": {
            "tags": []
          },
          "execution_count": 239
        }
      ]
    },
    {
      "cell_type": "code",
      "metadata": {
        "id": "v4J_1sIGAO1A",
        "colab_type": "code",
        "colab": {}
      },
      "source": [
        "###using different encoders which suites best on the columns.\n",
        "Grade_map= { 'G':1,\n",
        "            'F':2,\n",
        "            'E':3,\n",
        "            'D':4,\n",
        "            'C':5,\n",
        "            'B':6,\n",
        "            'A':7\n",
        "}\n",
        "Xtrain['grade']=Xtrain.grade.map(Grade_map)"
      ],
      "execution_count": null,
      "outputs": []
    },
    {
      "cell_type": "code",
      "metadata": {
        "id": "cvs1FfMjAic7",
        "colab_type": "code",
        "colab": {}
      },
      "source": [
        "from sklearn.preprocessing import OneHotEncoder\n",
        "enc = OneHotEncoder(handle_unknown='ignore')"
      ],
      "execution_count": null,
      "outputs": []
    },
    {
      "cell_type": "code",
      "metadata": {
        "id": "U_na0ehbGHhv",
        "colab_type": "code",
        "colab": {}
      },
      "source": [
        "enc_df= pd.DataFrame(enc.fit_transform(Xtrain[['home_ownership']]).toarray())\n",
        "Xtrain= Xtrain.join(enc_df)"
      ],
      "execution_count": null,
      "outputs": []
    },
    {
      "cell_type": "code",
      "metadata": {
        "id": "P_T6jBoKMXsx",
        "colab_type": "code",
        "colab": {}
      },
      "source": [
        "columns= ['verification_status','pymnt_plan','purpose','addr_state']\n",
        "\n",
        "for i in columns:\n",
        "  Xtrain=Xtrain.join(pd.get_dummies(Xtrain[i],drop_first=True))\n",
        "  #Xtrain=Xtrain.drop(i,axis=1)\n"
      ],
      "execution_count": null,
      "outputs": []
    },
    {
      "cell_type": "code",
      "metadata": {
        "id": "vQ9T9yxk_QUJ",
        "colab_type": "code",
        "colab": {}
      },
      "source": [
        "Xtrain['debt_settlement_flag']=pd.get_dummies(Xtrain['debt_settlement_flag'],drop_first=True)\n",
        "Xtrain['term']=pd.get_dummies(Xtrain['term'],drop_first=True)"
      ],
      "execution_count": null,
      "outputs": []
    },
    {
      "cell_type": "code",
      "metadata": {
        "id": "sDjSh4tONZzD",
        "colab_type": "code",
        "colab": {}
      },
      "source": [
        "#Xtrain=Xtrain.join(pd.get_dummies(Xtrain['verification_status'],drop_first=True))\n",
        "#Xtrain=Xtrain.join(pd.get_dummies(Xtrain['pymnt_plan'],drop_first=True))\n",
        "#Xtrain=Xtrain.join(pd.get_dummies(Xtrain['purpose'],drop_first=True))\n",
        "#Xtrain=Xtrain.join(pd.get_dummies(Xtrain['addr_state'],drop_first=True))\n",
        "#Xtrain=Xtrain.join(pd.get_dummies(Xtrain['hardship_flag'],drop_first=True))\n",
        "#Xtrain=Xtrain.join(pd.get_dummies(Xtrain['disbursement_method'],drop_first=True))"
      ],
      "execution_count": null,
      "outputs": []
    },
    {
      "cell_type": "code",
      "metadata": {
        "id": "n5V7OWXYVNGg",
        "colab_type": "code",
        "colab": {}
      },
      "source": [
        "###dropping the columns which got transferred. \n",
        "Xtrain=Xtrain.drop(['disbursement_method','hardship_flag','addr_state','purpose','pymnt_plan','verification_status','home_ownership','tax_liens','chargeoff_within_12_mths','mo_sin_old_il_acct','num_tl_30dpd','num_tl_90g_dpd_24m','num_tl_op_past_12m'],axis=1)"
      ],
      "execution_count": null,
      "outputs": []
    },
    {
      "cell_type": "code",
      "metadata": {
        "id": "jsgN4YWDCXo3",
        "colab_type": "code",
        "colab": {}
      },
      "source": [
        "###replicate with Xtest\n",
        "Xtest=pd.DataFrame(Xtest,columns=['loan_amount', 'term', 'interest_rate', 'installment', 'grade',\n",
        "       'home_ownership', 'annual_income', 'verification_status', 'pymnt_plan',\n",
        "       'purpose', 'addr_state', 'dti', 'delinq_2yrs', 'inq_last_6mths',\n",
        "       'mths_since_last_delinq', 'mths_since_last_record', 'open_acc',\n",
        "       'pub_rec', 'revol_bal', 'revol_util', 'total_acc', 'open_act_il',\n",
        "       'acc_open_past_24mths', 'avg_cur_bal', 'bc_open_to_buy', 'bc_util',\n",
        "       'chargeoff_within_12_mths', 'delinq_amnt', 'mo_sin_old_il_acct',\n",
        "       'mo_sin_old_rev_tl_op', 'mo_sin_rcnt_rev_tl_op', 'mo_sin_rcnt_tl',\n",
        "       'mort_acc', 'mths_since_recent_bc', 'mths_since_recent_inq',\n",
        "       'num_accts_ever_120_pd', 'num_actv_bc_tl', 'num_actv_rev_tl',\n",
        "       'num_bc_sats', 'num_bc_tl', 'num_il_tl', 'num_op_rev_tl',\n",
        "       'num_rev_accts', 'num_rev_tl_bal_gt_0', 'num_sats', 'num_tl_120dpd_2m',\n",
        "       'num_tl_30dpd', 'num_tl_90g_dpd_24m', 'num_tl_op_past_12m',\n",
        "       'pct_tl_nvr_dlq', 'percent_bc_gt_75', 'pub_rec_bankruptcies',\n",
        "       'tax_liens', 'tot_hi_cred_lim', 'total_bal_ex_mort', 'total_bc_limit',\n",
        "       'total_il_high_credit_limit', 'hardship_flag', 'disbursement_method',\n",
        "       'debt_settlement_flag'])"
      ],
      "execution_count": null,
      "outputs": []
    },
    {
      "cell_type": "code",
      "metadata": {
        "id": "6g6FRGWlCaya",
        "colab_type": "code",
        "colab": {}
      },
      "source": [
        "Grade_map= { 'G':1,\n",
        "            'F':2,\n",
        "            'E':3,\n",
        "            'D':4,\n",
        "            'C':5,\n",
        "            'B':6,\n",
        "            'A':7\n",
        "}\n",
        "Xtest['grade']=Xtest.grade.map(Grade_map)\n",
        "\n",
        "from sklearn.preprocessing import OneHotEncoder\n",
        "enc = OneHotEncoder(handle_unknown='ignore')\n",
        "\n",
        "enc_df= pd.DataFrame(enc.fit_transform(Xtest[['home_ownership']]).toarray())\n",
        "Xtest= Xtest.join(enc_df)"
      ],
      "execution_count": null,
      "outputs": []
    },
    {
      "cell_type": "code",
      "metadata": {
        "id": "A2g65sGWDzX1",
        "colab_type": "code",
        "colab": {}
      },
      "source": [
        "columns= ['verification_status','pymnt_plan','purpose','addr_state']\n",
        "\n",
        "for i in columns:\n",
        "  Xtest=Xtest.join(pd.get_dummies(Xtest[i],drop_first=True))\n",
        "  #Xtest=Xtest.drop(i,axis=1)\n",
        "Xtest['debt_settlement_flag']=pd.get_dummies(Xtest['debt_settlement_flag'],drop_first=True)\n",
        "Xtest['term']=pd.get_dummies(Xtest['term'],drop_first=True)"
      ],
      "execution_count": null,
      "outputs": []
    },
    {
      "cell_type": "code",
      "metadata": {
        "id": "mFVTuPAOEMBU",
        "colab_type": "code",
        "colab": {}
      },
      "source": [
        "###dropping the columns which got transferred. \n",
        "Xtest=Xtest.drop(['disbursement_method','hardship_flag','addr_state','purpose','pymnt_plan','verification_status','home_ownership','tax_liens','chargeoff_within_12_mths','mo_sin_old_il_acct','num_tl_30dpd','num_tl_90g_dpd_24m','num_tl_op_past_12m'],axis=1)"
      ],
      "execution_count": null,
      "outputs": []
    },
    {
      "cell_type": "code",
      "metadata": {
        "id": "EOws2TYNEUaf",
        "colab_type": "code",
        "colab": {}
      },
      "source": [
        "Xtrain= Xtrain[Xtest.columns]"
      ],
      "execution_count": null,
      "outputs": []
    },
    {
      "cell_type": "code",
      "metadata": {
        "id": "zTkNPnCJE_Um",
        "colab_type": "code",
        "colab": {}
      },
      "source": [
        "from sklearn import preprocessing\n",
        "mm_scaler = preprocessing.MinMaxScaler()\n",
        "X_train_minmax = mm_scaler.fit_transform(Xtrain)\n",
        "                                         \n",
        "X_test_minmax= mm_scaler.transform(Xtest)\n"
      ],
      "execution_count": null,
      "outputs": []
    },
    {
      "cell_type": "code",
      "metadata": {
        "id": "QI6ZhZyGHsKA",
        "colab_type": "code",
        "colab": {
          "base_uri": "https://localhost:8080/",
          "height": 33
        },
        "outputId": "0a4f6588-6aa1-4059-c31e-1a34347dfef4"
      },
      "source": [
        "np.unique(ytrain)"
      ],
      "execution_count": null,
      "outputs": [
        {
          "output_type": "execute_result",
          "data": {
            "text/plain": [
              "array([0, 1])"
            ]
          },
          "metadata": {
            "tags": []
          },
          "execution_count": 253
        }
      ]
    },
    {
      "cell_type": "code",
      "metadata": {
        "id": "ut8xNj0UH0RJ",
        "colab_type": "code",
        "colab": {
          "base_uri": "https://localhost:8080/",
          "height": 131
        },
        "outputId": "9573671a-6ba4-434a-b503-5764609efd9f"
      },
      "source": [
        "from imblearn.over_sampling import SMOTE\n",
        "\n",
        "sm = SMOTE(random_state=2)\n",
        "\n",
        "X_train_res, y_train_res = sm.fit_sample(X_train_minmax, ytrain.ravel())\n",
        "\n",
        "\n",
        "print('After OverSampling, the shape of train_X: {}'.format(X_train_res.shape))\n",
        "print('After OverSampling, the shape of train_y: {} \\n'.format(y_train_res.shape))\n",
        "\n",
        "print(\"After OverSampling, counts of label '1': {}\".format(sum(y_train_res==1)))\n",
        "print(\"After OverSampling, counts of label '0': {}\".format(sum(y_train_res==0)))"
      ],
      "execution_count": null,
      "outputs": [
        {
          "output_type": "stream",
          "text": [
            "/usr/local/lib/python3.6/dist-packages/sklearn/utils/deprecation.py:87: FutureWarning: Function safe_indexing is deprecated; safe_indexing is deprecated in version 0.22 and will be removed in version 0.24.\n",
            "  warnings.warn(msg, category=FutureWarning)\n"
          ],
          "name": "stderr"
        },
        {
          "output_type": "stream",
          "text": [
            "After OverSampling, the shape of train_X: (564392, 117)\n",
            "After OverSampling, the shape of train_y: (564392,) \n",
            "\n",
            "After OverSampling, counts of label '1': 282196\n",
            "After OverSampling, counts of label '0': 282196\n"
          ],
          "name": "stdout"
        }
      ]
    },
    {
      "cell_type": "code",
      "metadata": {
        "id": "5fJU5mh2Ij40",
        "colab_type": "code",
        "colab": {
          "base_uri": "https://localhost:8080/",
          "height": 98
        },
        "outputId": "e905e230-3053-4613-d094-770c877d36ca"
      },
      "source": [
        "from sklearn.linear_model import LogisticRegression\n",
        "from sklearn.model_selection import GridSearchCV\n",
        "\n",
        "\n",
        "lr = LogisticRegression(C=0.0001)\n",
        "lr.fit(X_train_res, y_train_res.ravel())"
      ],
      "execution_count": null,
      "outputs": [
        {
          "output_type": "execute_result",
          "data": {
            "text/plain": [
              "LogisticRegression(C=0.0001, class_weight=None, dual=False, fit_intercept=True,\n",
              "                   intercept_scaling=1, l1_ratio=None, max_iter=100,\n",
              "                   multi_class='auto', n_jobs=None, penalty='l2',\n",
              "                   random_state=None, solver='lbfgs', tol=0.0001, verbose=0,\n",
              "                   warm_start=False)"
            ]
          },
          "metadata": {
            "tags": []
          },
          "execution_count": 255
        }
      ]
    },
    {
      "cell_type": "code",
      "metadata": {
        "id": "SMAYLXrdPYBw",
        "colab_type": "code",
        "colab": {}
      },
      "source": [
        ""
      ],
      "execution_count": null,
      "outputs": []
    },
    {
      "cell_type": "code",
      "metadata": {
        "id": "yioihXFMPet5",
        "colab_type": "code",
        "colab": {
          "base_uri": "https://localhost:8080/",
          "height": 147
        },
        "outputId": "a3464a3a-678f-4f8e-efcc-2932c789bef0"
      },
      "source": [
        "lr1 = LogisticRegression(C=0.0001,penalty='l2', verbose=5)\n",
        "lr1.fit(X_train_res, y_train_res)"
      ],
      "execution_count": null,
      "outputs": [
        {
          "output_type": "stream",
          "text": [
            "[Parallel(n_jobs=1)]: Using backend SequentialBackend with 1 concurrent workers.\n",
            "[Parallel(n_jobs=1)]: Done   1 out of   1 | elapsed:    2.9s remaining:    0.0s\n",
            "[Parallel(n_jobs=1)]: Done   1 out of   1 | elapsed:    2.9s finished\n"
          ],
          "name": "stderr"
        },
        {
          "output_type": "execute_result",
          "data": {
            "text/plain": [
              "LogisticRegression(C=0.0001, class_weight=None, dual=False, fit_intercept=True,\n",
              "                   intercept_scaling=1, l1_ratio=None, max_iter=100,\n",
              "                   multi_class='auto', n_jobs=None, penalty='l2',\n",
              "                   random_state=None, solver='lbfgs', tol=0.0001, verbose=5,\n",
              "                   warm_start=False)"
            ]
          },
          "metadata": {
            "tags": []
          },
          "execution_count": 257
        }
      ]
    },
    {
      "cell_type": "code",
      "metadata": {
        "id": "sSMFbMY1QACR",
        "colab_type": "code",
        "colab": {}
      },
      "source": [
        ""
      ],
      "execution_count": null,
      "outputs": []
    },
    {
      "cell_type": "code",
      "metadata": {
        "id": "RFRRGidPI8Ot",
        "colab_type": "code",
        "colab": {
          "base_uri": "https://localhost:8080/",
          "height": 33
        },
        "outputId": "a4c038fb-0e99-4ebb-8312-6f312bb2d635"
      },
      "source": [
        "from sklearn.metrics import accuracy_score\n",
        "\n",
        "normal_ypred = lr.predict(X_test_minmax)\n",
        "print(accuracy_score(ytest, normal_ypred))"
      ],
      "execution_count": null,
      "outputs": [
        {
          "output_type": "stream",
          "text": [
            "0.6398861035118084\n"
          ],
          "name": "stdout"
        }
      ]
    },
    {
      "cell_type": "code",
      "metadata": {
        "id": "5Le0mv7KJYVK",
        "colab_type": "code",
        "colab": {}
      },
      "source": [
        "from sklearn.metrics import confusion_matrix, precision_recall_curve, auc, roc_auc_score, roc_curve, recall_score, classification_report"
      ],
      "execution_count": null,
      "outputs": []
    },
    {
      "cell_type": "code",
      "metadata": {
        "id": "dpo2lWijJnJI",
        "colab_type": "code",
        "colab": {
          "base_uri": "https://localhost:8080/",
          "height": 50
        },
        "outputId": "1d7e174a-5477-4989-9d26-74d64bec7440"
      },
      "source": [
        "confusion_matrix(ytest, normal_ypred)\n"
      ],
      "execution_count": null,
      "outputs": [
        {
          "output_type": "execute_result",
          "data": {
            "text/plain": [
              "array([[  642,   490],\n",
              "       [23987, 46580]])"
            ]
          },
          "metadata": {
            "tags": []
          },
          "execution_count": 144
        }
      ]
    },
    {
      "cell_type": "code",
      "metadata": {
        "id": "XLF6zPTPKGlQ",
        "colab_type": "code",
        "colab": {
          "base_uri": "https://localhost:8080/",
          "height": 163
        },
        "outputId": "091e2d7b-e9b2-4164-aff2-bb2578a74d37"
      },
      "source": [
        "print(classification_report(ytest,normal_ypred))"
      ],
      "execution_count": null,
      "outputs": [
        {
          "output_type": "stream",
          "text": [
            "              precision    recall  f1-score   support\n",
            "\n",
            "           0       0.03      0.57      0.05      1132\n",
            "           1       0.99      0.66      0.79     70567\n",
            "\n",
            "    accuracy                           0.66     71699\n",
            "   macro avg       0.51      0.61      0.42     71699\n",
            "weighted avg       0.97      0.66      0.78     71699\n",
            "\n"
          ],
          "name": "stdout"
        }
      ]
    },
    {
      "cell_type": "code",
      "metadata": {
        "id": "Gd4QXr53KNgT",
        "colab_type": "code",
        "colab": {
          "base_uri": "https://localhost:8080/",
          "height": 147
        },
        "outputId": "46c28cb7-63f1-4a0b-e2b2-98b32ae68474"
      },
      "source": [
        "from sklearn.ensemble import RandomForestClassifier\n",
        "RC=RandomForestClassifier(max_depth=5, random_state=0)\n",
        "RC.fit(X_train_res, y_train_res)\n"
      ],
      "execution_count": null,
      "outputs": [
        {
          "output_type": "execute_result",
          "data": {
            "text/plain": [
              "RandomForestClassifier(bootstrap=True, ccp_alpha=0.0, class_weight=None,\n",
              "                       criterion='gini', max_depth=5, max_features='auto',\n",
              "                       max_leaf_nodes=None, max_samples=None,\n",
              "                       min_impurity_decrease=0.0, min_impurity_split=None,\n",
              "                       min_samples_leaf=1, min_samples_split=2,\n",
              "                       min_weight_fraction_leaf=0.0, n_estimators=100,\n",
              "                       n_jobs=None, oob_score=False, random_state=0, verbose=0,\n",
              "                       warm_start=False)"
            ]
          },
          "metadata": {
            "tags": []
          },
          "execution_count": 136
        }
      ]
    },
    {
      "cell_type": "code",
      "metadata": {
        "id": "IjCKAL7YLRrM",
        "colab_type": "code",
        "colab": {
          "base_uri": "https://localhost:8080/",
          "height": 33
        },
        "outputId": "f9f649eb-6467-404b-8c07-d775bd76341e"
      },
      "source": [
        "normal_ypred = RC.predict(X_test_minmax)\n",
        "print(accuracy_score(ytest, normal_ypred))"
      ],
      "execution_count": null,
      "outputs": [
        {
          "output_type": "stream",
          "text": [
            "0.5929231927920892\n"
          ],
          "name": "stdout"
        }
      ]
    },
    {
      "cell_type": "code",
      "metadata": {
        "id": "HuqiW5SbLwZv",
        "colab_type": "code",
        "colab": {
          "base_uri": "https://localhost:8080/",
          "height": 163
        },
        "outputId": "86e1e8d0-ef6e-4ff3-cfa5-59df42d108cd"
      },
      "source": [
        "print(classification_report(ytest,normal_ypred))"
      ],
      "execution_count": null,
      "outputs": [
        {
          "output_type": "stream",
          "text": [
            "              precision    recall  f1-score   support\n",
            "\n",
            "           0       0.02      0.52      0.04      1132\n",
            "           1       0.99      0.59      0.74     70567\n",
            "\n",
            "    accuracy                           0.59     71699\n",
            "   macro avg       0.50      0.56      0.39     71699\n",
            "weighted avg       0.97      0.59      0.73     71699\n",
            "\n"
          ],
          "name": "stdout"
        }
      ]
    },
    {
      "cell_type": "code",
      "metadata": {
        "id": "5QCzdJpaNJZT",
        "colab_type": "code",
        "colab": {}
      },
      "source": [
        ""
      ],
      "execution_count": null,
      "outputs": []
    },
    {
      "cell_type": "code",
      "metadata": {
        "id": "gPPsiZIfRc_1",
        "colab_type": "code",
        "colab": {}
      },
      "source": [
        "from sklearn.utils import resample\n",
        "\n",
        "X = pd.concat([pd.DataFrame(X_train_minmax), pd.DataFrame(ytrain,columns=['Target'])], axis=1)\n",
        "\n",
        "Bad_Loan = X[X.Target==0]\n",
        "Good_Loan = X[X.Target==1]\n",
        "\n",
        "not_fraud_downsampled = resample(Good_Loan,\n",
        "                                replace = False, # sample without replacement\n",
        "                                n_samples = len(Bad_Loan), # match minority n\n",
        "                                random_state = 27) # reproducible results\n",
        "\n",
        "# combine minority and downsampled majority\n",
        "downsampled = pd.concat([not_fraud_downsampled, Bad_Loan])\n"
      ],
      "execution_count": null,
      "outputs": []
    },
    {
      "cell_type": "code",
      "metadata": {
        "id": "A9pqqhObh1mG",
        "colab_type": "code",
        "colab": {
          "base_uri": "https://localhost:8080/",
          "height": 66
        },
        "outputId": "ad578fd4-88e7-4e6b-bd95-6ab3b53b80f5"
      },
      "source": [
        "downsampled['Target'].value_counts()"
      ],
      "execution_count": null,
      "outputs": [
        {
          "output_type": "execute_result",
          "data": {
            "text/plain": [
              "1    4504\n",
              "0    4504\n",
              "Name: Target, dtype: int64"
            ]
          },
          "metadata": {
            "tags": []
          },
          "execution_count": 173
        }
      ]
    },
    {
      "cell_type": "code",
      "metadata": {
        "id": "z8P3TmNmh3iu",
        "colab_type": "code",
        "colab": {}
      },
      "source": [
        "ytrain=downsampled.Target"
      ],
      "execution_count": null,
      "outputs": []
    },
    {
      "cell_type": "code",
      "metadata": {
        "id": "ZaudKHngiNYs",
        "colab_type": "code",
        "colab": {}
      },
      "source": [
        "Xtrain=downsampled.drop('Target',axis=1)"
      ],
      "execution_count": null,
      "outputs": []
    },
    {
      "cell_type": "code",
      "metadata": {
        "id": "bqIfpIqGjyVB",
        "colab_type": "code",
        "colab": {}
      },
      "source": [
        "lr = LogisticRegression()\n"
      ],
      "execution_count": null,
      "outputs": []
    },
    {
      "cell_type": "code",
      "metadata": {
        "id": "0afkzBewj1nh",
        "colab_type": "code",
        "colab": {
          "base_uri": "https://localhost:8080/",
          "height": 228
        },
        "outputId": "95b3afcf-0430-4278-a347-424d9f2b3178"
      },
      "source": [
        "lr.fit(X_train_res, y_train_res)"
      ],
      "execution_count": null,
      "outputs": [
        {
          "output_type": "stream",
          "text": [
            "/usr/local/lib/python3.6/dist-packages/sklearn/linear_model/_logistic.py:940: ConvergenceWarning: lbfgs failed to converge (status=1):\n",
            "STOP: TOTAL NO. of ITERATIONS REACHED LIMIT.\n",
            "\n",
            "Increase the number of iterations (max_iter) or scale the data as shown in:\n",
            "    https://scikit-learn.org/stable/modules/preprocessing.html\n",
            "Please also refer to the documentation for alternative solver options:\n",
            "    https://scikit-learn.org/stable/modules/linear_model.html#logistic-regression\n",
            "  extra_warning_msg=_LOGISTIC_SOLVER_CONVERGENCE_MSG)\n"
          ],
          "name": "stderr"
        },
        {
          "output_type": "execute_result",
          "data": {
            "text/plain": [
              "LogisticRegression(C=1.0, class_weight=None, dual=False, fit_intercept=True,\n",
              "                   intercept_scaling=1, l1_ratio=None, max_iter=100,\n",
              "                   multi_class='auto', n_jobs=None, penalty='l2',\n",
              "                   random_state=None, solver='lbfgs', tol=0.0001, verbose=0,\n",
              "                   warm_start=False)"
            ]
          },
          "metadata": {
            "tags": []
          },
          "execution_count": 177
        }
      ]
    },
    {
      "cell_type": "code",
      "metadata": {
        "id": "_AiSy1_kkFo3",
        "colab_type": "code",
        "colab": {}
      },
      "source": [
        "from sklearn.metrics import accuracy_score\n",
        "normal_ypred = lr.predict(X_test_minmax)\n"
      ],
      "execution_count": null,
      "outputs": []
    },
    {
      "cell_type": "code",
      "metadata": {
        "id": "ltffGytnkOqD",
        "colab_type": "code",
        "colab": {
          "base_uri": "https://localhost:8080/",
          "height": 33
        },
        "outputId": "fdc10256-afad-4e46-8b5c-f139b6eaf937"
      },
      "source": [
        "print(accuracy_score(ytest, normal_ypred))"
      ],
      "execution_count": null,
      "outputs": [
        {
          "output_type": "stream",
          "text": [
            "0.6155929742257965\n"
          ],
          "name": "stdout"
        }
      ]
    },
    {
      "cell_type": "code",
      "metadata": {
        "id": "lAb4M9DAkSGg",
        "colab_type": "code",
        "colab": {
          "base_uri": "https://localhost:8080/",
          "height": 147
        },
        "outputId": "f8669b7f-1c7c-4917-cb94-12b27740d4b6"
      },
      "source": [
        "from sklearn.ensemble import RandomForestClassifier\n",
        "RC=RandomForestClassifier(n_estimators=50,max_depth=5, random_state=0)\n",
        "RC.fit(Xtrain, ytrain)"
      ],
      "execution_count": null,
      "outputs": [
        {
          "output_type": "execute_result",
          "data": {
            "text/plain": [
              "RandomForestClassifier(bootstrap=True, ccp_alpha=0.0, class_weight=None,\n",
              "                       criterion='gini', max_depth=5, max_features='auto',\n",
              "                       max_leaf_nodes=None, max_samples=None,\n",
              "                       min_impurity_decrease=0.0, min_impurity_split=None,\n",
              "                       min_samples_leaf=1, min_samples_split=2,\n",
              "                       min_weight_fraction_leaf=0.0, n_estimators=50,\n",
              "                       n_jobs=None, oob_score=False, random_state=0, verbose=0,\n",
              "                       warm_start=False)"
            ]
          },
          "metadata": {
            "tags": []
          },
          "execution_count": 186
        }
      ]
    },
    {
      "cell_type": "code",
      "metadata": {
        "id": "xuyeAa6mk0dQ",
        "colab_type": "code",
        "colab": {}
      },
      "source": [
        "normal_ypred = RC.predict(X_test_minmax)\n"
      ],
      "execution_count": null,
      "outputs": []
    },
    {
      "cell_type": "code",
      "metadata": {
        "id": "0PKWGDJOlGDa",
        "colab_type": "code",
        "colab": {
          "base_uri": "https://localhost:8080/",
          "height": 33
        },
        "outputId": "46e95347-20eb-4d28-e380-36f0cfbd2328"
      },
      "source": [
        "print(accuracy_score(ytest, normal_ypred))"
      ],
      "execution_count": null,
      "outputs": [
        {
          "output_type": "stream",
          "text": [
            "0.651741085141437\n"
          ],
          "name": "stdout"
        }
      ]
    },
    {
      "cell_type": "code",
      "metadata": {
        "id": "BgwmFneOlHu2",
        "colab_type": "code",
        "colab": {
          "base_uri": "https://localhost:8080/",
          "height": 163
        },
        "outputId": "cb1c2b6a-48e6-4399-86f4-5e54ff2cfa16"
      },
      "source": [
        "n_estimators = [100, 300, 500]\n",
        "max_depth = [5, 8, 15, 25, 30]\n",
        "min_samples_split = [2, 5, 10, 15, 100]\n",
        "min_samples_leaf = [1, 2, 5, 10]\n",
        "\n",
        "RC= RandomForestClassifier()\n",
        "hyperF = dict(n_estimators = n_estimators, max_depth = max_depth,  \n",
        "              min_samples_split = min_samples_split, \n",
        "             min_samples_leaf = min_samples_leaf)\n",
        "\n",
        "gridF = GridSearchCV(RC, hyperF, cv = 3, verbose = 1, \n",
        "                      n_jobs = -1)\n",
        "bestF = gridF.fit(Xtrain, ytrain.ravel())"
      ],
      "execution_count": null,
      "outputs": [
        {
          "output_type": "stream",
          "text": [
            "Fitting 3 folds for each of 300 candidates, totalling 900 fits\n"
          ],
          "name": "stdout"
        },
        {
          "output_type": "stream",
          "text": [
            "[Parallel(n_jobs=-1)]: Using backend LokyBackend with 4 concurrent workers.\n",
            "[Parallel(n_jobs=-1)]: Done  42 tasks      | elapsed:   33.6s\n",
            "[Parallel(n_jobs=-1)]: Done 192 tasks      | elapsed:  2.6min\n",
            "[Parallel(n_jobs=-1)]: Done 442 tasks      | elapsed:  7.9min\n",
            "/usr/local/lib/python3.6/dist-packages/joblib/externals/loky/process_executor.py:706: UserWarning: A worker stopped while some jobs were given to the executor. This can be caused by a too short worker timeout or by a memory leak.\n",
            "  \"timeout or by a memory leak.\", UserWarning\n",
            "[Parallel(n_jobs=-1)]: Done 792 tasks      | elapsed: 17.5min\n",
            "[Parallel(n_jobs=-1)]: Done 900 out of 900 | elapsed: 20.3min finished\n"
          ],
          "name": "stderr"
        }
      ]
    },
    {
      "cell_type": "code",
      "metadata": {
        "id": "ExVQO0izlxCs",
        "colab_type": "code",
        "colab": {
          "base_uri": "https://localhost:8080/",
          "height": 147
        },
        "outputId": "5d209561-dc9a-4b68-de9a-36ccbd38f37b"
      },
      "source": [
        "bestF.best_estimator_"
      ],
      "execution_count": null,
      "outputs": [
        {
          "output_type": "execute_result",
          "data": {
            "text/plain": [
              "RandomForestClassifier(bootstrap=True, ccp_alpha=0.0, class_weight=None,\n",
              "                       criterion='gini', max_depth=15, max_features='auto',\n",
              "                       max_leaf_nodes=None, max_samples=None,\n",
              "                       min_impurity_decrease=0.0, min_impurity_split=None,\n",
              "                       min_samples_leaf=5, min_samples_split=15,\n",
              "                       min_weight_fraction_leaf=0.0, n_estimators=100,\n",
              "                       n_jobs=None, oob_score=False, random_state=None,\n",
              "                       verbose=0, warm_start=False)"
            ]
          },
          "metadata": {
            "tags": []
          },
          "execution_count": 189
        }
      ]
    },
    {
      "cell_type": "code",
      "metadata": {
        "id": "J2J4Vrq8qlKQ",
        "colab_type": "code",
        "colab": {
          "base_uri": "https://localhost:8080/",
          "height": 147
        },
        "outputId": "d5498f20-0a22-4f6d-a266-2e71c9048f1e"
      },
      "source": [
        "RC= RandomForestClassifier(bootstrap=True, ccp_alpha=0.0, class_weight=None,\n",
        "                       criterion='gini', max_depth=15, max_features='auto',\n",
        "                       max_leaf_nodes=None, max_samples=None,\n",
        "                       min_impurity_decrease=0.0, min_impurity_split=None,\n",
        "                       min_samples_leaf=5, min_samples_split=15,\n",
        "                       min_weight_fraction_leaf=0.0, n_estimators=100,\n",
        "                       n_jobs=None, oob_score=False, random_state=None,\n",
        "                       verbose=0, warm_start=False)\n",
        "RC.fit(Xtrain,ytrain)"
      ],
      "execution_count": null,
      "outputs": [
        {
          "output_type": "execute_result",
          "data": {
            "text/plain": [
              "RandomForestClassifier(bootstrap=True, ccp_alpha=0.0, class_weight=None,\n",
              "                       criterion='gini', max_depth=15, max_features='auto',\n",
              "                       max_leaf_nodes=None, max_samples=None,\n",
              "                       min_impurity_decrease=0.0, min_impurity_split=None,\n",
              "                       min_samples_leaf=5, min_samples_split=15,\n",
              "                       min_weight_fraction_leaf=0.0, n_estimators=100,\n",
              "                       n_jobs=None, oob_score=False, random_state=None,\n",
              "                       verbose=0, warm_start=False)"
            ]
          },
          "metadata": {
            "tags": []
          },
          "execution_count": 190
        }
      ]
    },
    {
      "cell_type": "code",
      "metadata": {
        "id": "63O3Hyf2q2bM",
        "colab_type": "code",
        "colab": {}
      },
      "source": [
        "normal_ypred = RC.predict(X_test_minmax)\n"
      ],
      "execution_count": null,
      "outputs": []
    },
    {
      "cell_type": "code",
      "metadata": {
        "id": "Jsj99uipq6KB",
        "colab_type": "code",
        "colab": {
          "base_uri": "https://localhost:8080/",
          "height": 33
        },
        "outputId": "189b8e2a-068b-4b96-b396-b1e9a4c3229e"
      },
      "source": [
        "print(accuracy_score(ytest, normal_ypred))"
      ],
      "execution_count": null,
      "outputs": [
        {
          "output_type": "stream",
          "text": [
            "0.6537097539862053\n"
          ],
          "name": "stdout"
        }
      ]
    },
    {
      "cell_type": "code",
      "metadata": {
        "id": "IettdEVAq8Oh",
        "colab_type": "code",
        "colab": {
          "base_uri": "https://localhost:8080/",
          "height": 82
        },
        "outputId": "0161bc07-23bd-4604-8111-48e04fead7c1"
      },
      "source": [
        "bestF."
      ],
      "execution_count": null,
      "outputs": [
        {
          "output_type": "execute_result",
          "data": {
            "text/plain": [
              "{'max_depth': 15,\n",
              " 'min_samples_leaf': 5,\n",
              " 'min_samples_split': 15,\n",
              " 'n_estimators': 100}"
            ]
          },
          "metadata": {
            "tags": []
          },
          "execution_count": 193
        }
      ]
    },
    {
      "cell_type": "code",
      "metadata": {
        "id": "SRVeYgxrrJyc",
        "colab_type": "code",
        "colab": {}
      },
      "source": [
        "from lightgbm import LGBMClassifier\n"
      ],
      "execution_count": null,
      "outputs": []
    },
    {
      "cell_type": "code",
      "metadata": {
        "id": "mrYIhkh4WnNy",
        "colab_type": "code",
        "colab": {}
      },
      "source": [
        "from sklearn.model_selection import train_test_split\n",
        "\n",
        "X_train,X_val,y_train,y_val= train_test_split(X_train_res,y_train_res,test_size=0.2,random_state=123)"
      ],
      "execution_count": null,
      "outputs": []
    },
    {
      "cell_type": "code",
      "metadata": {
        "id": "bAefHx_RWPy_",
        "colab_type": "code",
        "colab": {}
      },
      "source": [
        "clf = LGBMClassifier(\n",
        "            nthread=4,\n",
        "            n_estimators=5000,\n",
        "            learning_rate=0.02,\n",
        "            num_leaves=32,\n",
        "            colsample_bytree=0.9497036,\n",
        "            subsample=0.8715623,\n",
        "            max_depth=8,\n",
        "            reg_alpha=0.04,\n",
        "            reg_lambda=0.073,\n",
        "            min_split_gain=0.0222415,\n",
        "            min_child_weight=40,\n",
        "            silent=-1,\n",
        "            verbose=-1,\n",
        "            )"
      ],
      "execution_count": null,
      "outputs": []
    },
    {
      "cell_type": "code",
      "metadata": {
        "id": "c_mHO2yeWXAE",
        "colab_type": "code",
        "colab": {
          "base_uri": "https://localhost:8080/",
          "height": 212
        },
        "outputId": "e700569f-e8a7-4fcc-cc9b-5308cdbe782d"
      },
      "source": [
        "clf.fit(X_train, y_train,eval_set=[(X_train,y_train),(X_val,y_val)],eval_metric='auc',verbose=1000,early_stopping_rounds=200)"
      ],
      "execution_count": null,
      "outputs": [
        {
          "output_type": "stream",
          "text": [
            "Training until validation scores don't improve for 200 rounds.\n",
            "[1000]\ttraining's binary_logloss: 0.0348454\ttraining's auc: 0.997678\tvalid_1's binary_logloss: 0.0382278\tvalid_1's auc: 0.995826\n",
            "Early stopping, best iteration is:\n",
            "[1723]\ttraining's binary_logloss: 0.0308802\ttraining's auc: 0.998684\tvalid_1's binary_logloss: 0.0377848\tvalid_1's auc: 0.995853\n"
          ],
          "name": "stdout"
        },
        {
          "output_type": "execute_result",
          "data": {
            "text/plain": [
              "LGBMClassifier(boosting_type='gbdt', class_weight=None,\n",
              "               colsample_bytree=0.9497036, importance_type='split',\n",
              "               learning_rate=0.02, max_depth=8, min_child_samples=20,\n",
              "               min_child_weight=40, min_split_gain=0.0222415, n_estimators=5000,\n",
              "               n_jobs=-1, nthread=4, num_leaves=32, objective=None,\n",
              "               random_state=None, reg_alpha=0.04, reg_lambda=0.073, silent=-1,\n",
              "               subsample=0.8715623, subsample_for_bin=200000, subsample_freq=0,\n",
              "               verbose=-1)"
            ]
          },
          "metadata": {
            "tags": []
          },
          "execution_count": 268
        }
      ]
    },
    {
      "cell_type": "code",
      "metadata": {
        "id": "tWdbHq8_X3r4",
        "colab_type": "code",
        "colab": {
          "base_uri": "https://localhost:8080/",
          "height": 33
        },
        "outputId": "d149e510-58c8-4e9a-855d-3e1c40d84a55"
      },
      "source": [
        "normal_ypred = clf.predict(X_test_minmax)\n",
        "print(accuracy_score(ytest, normal_ypred))"
      ],
      "execution_count": null,
      "outputs": [
        {
          "output_type": "stream",
          "text": [
            "0.9847160962536988\n"
          ],
          "name": "stdout"
        }
      ]
    },
    {
      "cell_type": "code",
      "metadata": {
        "id": "tbZiw-3ldBGr",
        "colab_type": "code",
        "colab": {}
      },
      "source": [
        ""
      ],
      "execution_count": null,
      "outputs": []
    }
  ]
}